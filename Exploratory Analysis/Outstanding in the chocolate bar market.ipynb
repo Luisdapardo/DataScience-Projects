{
 "cells": [
  {
   "cell_type": "markdown",
   "metadata": {
    "id": "4Jqfyx9E72Sl"
   },
   "source": [
    "##Luis David Pardo Pedraza"
   ]
  },
  {
   "cell_type": "markdown",
   "metadata": {
    "id": "iU1dLDf-87KO"
   },
   "source": [
    "##Outstanding in the chocolate bar market"
   ]
  },
  {
   "cell_type": "markdown",
   "metadata": {},
   "source": [
    "Fictional case study with real data. Main focus in Exploratory analysis of data."
   ]
  },
  {
   "cell_type": "markdown",
   "metadata": {
    "id": "vYCulAobWh0F"
   },
   "source": [
    "##Business Problem"
   ]
  },
  {
   "cell_type": "markdown",
   "metadata": {
    "id": "v5zpYnjwWrvJ"
   },
   "source": [
    "This study aims to provide useful insights of the chocolate bar market to a new entrant who wants to introduce a new premium chocolate bar in the market. This new company is called Chocoprize and it has the mission of crafting the quintessence of chocolate bars, setting the gold standard in the luxury confectionery industry. With this goal in mind, my quest as their consultant is giving them the fundamental information regarding the factors that could help them in their wish of creating this type of chocolate bar.\n",
    "\n",
    "For doing so, this analysis will dive into the rating of the chocolate bar market until the year 2020 and will provide the findings necessary for them to create a product in the capacity of getting the highest score in the market."
   ]
  },
  {
   "cell_type": "markdown",
   "metadata": {
    "id": "wk-hFBHX_xzQ"
   },
   "source": [
    "###Importing the libraries"
   ]
  },
  {
   "cell_type": "code",
   "execution_count": 1,
   "metadata": {
    "id": "44ELslXW_02j"
   },
   "outputs": [],
   "source": [
    "import pandas as pd\n",
    "import matplotlib.pyplot as plt\n",
    "from collections import Counter"
   ]
  },
  {
   "cell_type": "markdown",
   "metadata": {
    "id": "bo963dgkTZ--"
   },
   "source": [
    "###Dataset and tools"
   ]
  },
  {
   "cell_type": "markdown",
   "metadata": {
    "id": "UbJv1xvETgFb"
   },
   "source": [
    "For the purpose of this study, a dataset containing valuable information of chocolate bars will be used.\n",
    "\n",
    "The mentioned dataset is called \"Chocolate Bar 2020\" and can be found on the following URL:\n",
    "\n",
    "https://www.kaggle.com/datasets/soroushghaderi/chocolate-bar-2020?resource=download\n",
    "\n",
    "This dataset shows the ratings of different chocolate bars following this scale of measure:\n",
    "\n",
    "4.0 - 5.0 = Outstanding\n",
    "\n",
    "3.5 - 3.9 = Highly Recommended\n",
    "\n",
    "3.0 - 3.49 = Recommended\n",
    "\n",
    "2.0 - 2.9 = Disappointing\n",
    "\n",
    "1.0 - 1.9 = Unpleasant\n",
    "\n",
    "Additionally, the analysis will be conducted with the famous programming language Python within Google Colab."
   ]
  },
  {
   "cell_type": "markdown",
   "metadata": {
    "id": "GhRV5bCahtl_"
   },
   "source": [
    "###Accessing and loading the data"
   ]
  },
  {
   "cell_type": "markdown",
   "metadata": {
    "id": "AbuOhj4riHbS"
   },
   "source": [
    "In order to access and load the data, the following steps will be performed:\n",
    "\n",
    "1. Click the link of the dataset\n",
    "2. Download the dataset to my computer and save it with the name \"chocolate\".\n",
    "3. Upload the \"chocolate.csv\" file to the File Explorer specifically to the \"content/sample_data\" directory.\n",
    "4. Use the \"read_csv()\" function of pandas to read the dataset.\n",
    "5. Assign the new DataFrame to a variable \"data\""
   ]
  },
  {
   "cell_type": "code",
   "execution_count": 4,
   "metadata": {
    "id": "PcP2St6DS1Ol"
   },
   "outputs": [],
   "source": [
    "data = pd.read_csv(r\"C:\\Users\\luisd\\OneDrive\\Desktop\\Python_projects\\Datasets\\chocolate.csv\")"
   ]
  },
  {
   "cell_type": "markdown",
   "metadata": {
    "id": "Uq6ScB58swPE"
   },
   "source": [
    "##Data exploration"
   ]
  },
  {
   "cell_type": "markdown",
   "metadata": {
    "id": "zzCf_QEnWZ4j"
   },
   "source": [
    "###General information of the DataFrame"
   ]
  },
  {
   "cell_type": "markdown",
   "metadata": {
    "id": "yDoX5G8sxTyJ"
   },
   "source": [
    "To explore the dataset, I begin by addressing its size and shape:\n",
    "\n",
    "With \"data.shape\" the form of the dataset is described giving the number of rows and columns in it.\n",
    "\n",
    "Using \"print()\" allows to display inputs of the function. In this case a title text \"Shape of the Dataframe:\" and the actual shape.\n",
    "\n",
    "\".head(1)\" function is used to display all the columns of the dataframe with the first row."
   ]
  },
  {
   "cell_type": "code",
   "execution_count": 5,
   "metadata": {
    "colab": {
     "base_uri": "https://localhost:8080/",
     "height": 165
    },
    "id": "5NHcynFVhtn1",
    "outputId": "340ca959-4410-456e-aab9-a12d229536d3"
   },
   "outputs": [
    {
     "name": "stdout",
     "output_type": "stream",
     "text": [
      "Shape of the Dataframe: (2224, 21)\n"
     ]
    },
    {
     "data": {
      "text/html": [
       "<div>\n",
       "<style scoped>\n",
       "    .dataframe tbody tr th:only-of-type {\n",
       "        vertical-align: middle;\n",
       "    }\n",
       "\n",
       "    .dataframe tbody tr th {\n",
       "        vertical-align: top;\n",
       "    }\n",
       "\n",
       "    .dataframe thead th {\n",
       "        text-align: right;\n",
       "    }\n",
       "</style>\n",
       "<table border=\"1\" class=\"dataframe\">\n",
       "  <thead>\n",
       "    <tr style=\"text-align: right;\">\n",
       "      <th></th>\n",
       "      <th>Unnamed: 0</th>\n",
       "      <th>ref</th>\n",
       "      <th>company</th>\n",
       "      <th>company_location</th>\n",
       "      <th>review_date</th>\n",
       "      <th>country_of_bean_origin</th>\n",
       "      <th>specific_bean_origin_or_bar_name</th>\n",
       "      <th>cocoa_percent</th>\n",
       "      <th>rating</th>\n",
       "      <th>counts_of_ingredients</th>\n",
       "      <th>...</th>\n",
       "      <th>cocoa_butter</th>\n",
       "      <th>vanilla</th>\n",
       "      <th>lecithin</th>\n",
       "      <th>salt</th>\n",
       "      <th>sugar</th>\n",
       "      <th>sweetener_without_sugar</th>\n",
       "      <th>first_taste</th>\n",
       "      <th>second_taste</th>\n",
       "      <th>third_taste</th>\n",
       "      <th>fourth_taste</th>\n",
       "    </tr>\n",
       "  </thead>\n",
       "  <tbody>\n",
       "    <tr>\n",
       "      <th>0</th>\n",
       "      <td>0</td>\n",
       "      <td>2454</td>\n",
       "      <td>5150</td>\n",
       "      <td>U.S.A</td>\n",
       "      <td>2019</td>\n",
       "      <td>Madagascar</td>\n",
       "      <td>Bejofo Estate, batch 1</td>\n",
       "      <td>76.0</td>\n",
       "      <td>3.75</td>\n",
       "      <td>3</td>\n",
       "      <td>...</td>\n",
       "      <td>have_cocoa_butter</td>\n",
       "      <td>have_not_vanila</td>\n",
       "      <td>have_not_lecithin</td>\n",
       "      <td>have_not_salt</td>\n",
       "      <td>have_sugar</td>\n",
       "      <td>have_not_sweetener_without_sugar</td>\n",
       "      <td>cocoa</td>\n",
       "      <td>blackberry</td>\n",
       "      <td>full body</td>\n",
       "      <td>NaN</td>\n",
       "    </tr>\n",
       "  </tbody>\n",
       "</table>\n",
       "<p>1 rows × 21 columns</p>\n",
       "</div>"
      ],
      "text/plain": [
       "   Unnamed: 0   ref company company_location  review_date  \\\n",
       "0           0  2454    5150            U.S.A         2019   \n",
       "\n",
       "  country_of_bean_origin specific_bean_origin_or_bar_name  cocoa_percent  \\\n",
       "0             Madagascar           Bejofo Estate, batch 1           76.0   \n",
       "\n",
       "   rating  counts_of_ingredients  ...       cocoa_butter          vanilla  \\\n",
       "0    3.75                      3  ...  have_cocoa_butter  have_not_vanila   \n",
       "\n",
       "            lecithin           salt       sugar  \\\n",
       "0  have_not_lecithin  have_not_salt  have_sugar   \n",
       "\n",
       "            sweetener_without_sugar first_taste second_taste third_taste  \\\n",
       "0  have_not_sweetener_without_sugar       cocoa   blackberry   full body   \n",
       "\n",
       "  fourth_taste  \n",
       "0          NaN  \n",
       "\n",
       "[1 rows x 21 columns]"
      ]
     },
     "execution_count": 5,
     "metadata": {},
     "output_type": "execute_result"
    }
   ],
   "source": [
    "print(\"Shape of the Dataframe:\", data.shape)\n",
    "\n",
    "data.head(1)"
   ]
  },
  {
   "cell_type": "markdown",
   "metadata": {
    "id": "6nGFBNyA2rvU"
   },
   "source": [
    "As can be observed, the dataset contains 2224 rows and 21 columns.\n",
    "\n",
    "With the initial visualization two issues must be discussed for continuing:\n",
    "\n",
    "To begin with, it should be noted that the first two columns of the dataset seem to be identical. Both columns appear to serve the purpose of index for the dataset. Probably this issue is due to the fact that the dataset originally had its own index column (which now appears as \"Unamed: 0\") and after loading it with \"pandas\" a second index column was created automatically. This issue will be addressed in the cleansing phase.\n",
    "\n",
    "On a second note, since the dataset has too many columns, some of them are hidden and are showed as \"...\" in the display.\n",
    "\n",
    "To solve this issue and seeing all of them, the code \".info()\" is used for the dataset"
   ]
  },
  {
   "cell_type": "code",
   "execution_count": 6,
   "metadata": {
    "colab": {
     "base_uri": "https://localhost:8080/"
    },
    "id": "3qenmj3q2nWM",
    "outputId": "b7003968-7159-499e-ef6b-e4e261cf0ac9"
   },
   "outputs": [
    {
     "name": "stdout",
     "output_type": "stream",
     "text": [
      "Name of the columns and data types:\n",
      "<class 'pandas.core.frame.DataFrame'>\n",
      "RangeIndex: 2224 entries, 0 to 2223\n",
      "Data columns (total 21 columns):\n",
      " #   Column                            Non-Null Count  Dtype  \n",
      "---  ------                            --------------  -----  \n",
      " 0   Unnamed: 0                        2224 non-null   int64  \n",
      " 1   ref                               2224 non-null   int64  \n",
      " 2   company                           2224 non-null   object \n",
      " 3   company_location                  2224 non-null   object \n",
      " 4   review_date                       2224 non-null   int64  \n",
      " 5   country_of_bean_origin            2224 non-null   object \n",
      " 6   specific_bean_origin_or_bar_name  2224 non-null   object \n",
      " 7   cocoa_percent                     2224 non-null   float64\n",
      " 8   rating                            2224 non-null   float64\n",
      " 9   counts_of_ingredients             2224 non-null   int64  \n",
      " 10  beans                             2224 non-null   object \n",
      " 11  cocoa_butter                      2224 non-null   object \n",
      " 12  vanilla                           2224 non-null   object \n",
      " 13  lecithin                          2224 non-null   object \n",
      " 14  salt                              2224 non-null   object \n",
      " 15  sugar                             2224 non-null   object \n",
      " 16  sweetener_without_sugar           2224 non-null   object \n",
      " 17  first_taste                       2224 non-null   object \n",
      " 18  second_taste                      2147 non-null   object \n",
      " 19  third_taste                       1604 non-null   object \n",
      " 20  fourth_taste                      242 non-null    object \n",
      "dtypes: float64(2), int64(4), object(15)\n",
      "memory usage: 365.0+ KB\n"
     ]
    }
   ],
   "source": [
    "print(\"Name of the columns and data types:\")\n",
    "\n",
    "data.info()"
   ]
  },
  {
   "cell_type": "markdown",
   "metadata": {
    "id": "3Gt6uronxuIF"
   },
   "source": [
    "With this display, the headers of all the columns can be seen. In this particular case the dataset provides information of the following attributes of the chocolate bar market:\n",
    "\n",
    "1. Product reference\n",
    "2. Vendor Company\n",
    "3. Location of the vendor company\n",
    "4. Date (specifically the year) of the review of the chocolate bar\n",
    "5. Country of origin of the bean used to produce the chocolate bar\n",
    "6. Specific location of origin of the bean used to produce the chocolate bar\n",
    "7. percentage of cocoa\n",
    "8. Rating acquired with the review\n",
    "9. Number of ingridients used\n",
    "10. Usage of beans?\n",
    "11. Usage of cocoa butter?\n",
    "12. Usage of vanilla?\n",
    "13. Usage of lecithin?\n",
    "14. Usage of salt?\n",
    "15. Usage of sugar?\n",
    "16. Usage of a sweetener without sugar?\n",
    "17. Perception of first taste\n",
    "18. Perception of second taste\n",
    "19. Perception of third taste\n",
    "20. Perception of fourth taste\n",
    "\n",
    "\n",
    "Additionally, the table above also provides information of the data type (dtype) of the elements found in each column. On one hand, most of the columns have \"object\" values which means that they represent strings or mixed types of data. On the other hand, the columns \"ref\", \"review_date\", \"cocoa_percent\", \"rating\" and \"counts_of_ingredients\" have numerical values. Among these, only \"cocoa_percent\" and \"rating\" contain float values while the other three have integer values.\n",
    "\n",
    "Also, it can be noted that there are some null or missing values in the dataset. This issue will be addressed in the cleansing phase."
   ]
  },
  {
   "cell_type": "markdown",
   "metadata": {
    "id": "Nbb61FOZ3-lj"
   },
   "source": [
    "###Checking for duplicates"
   ]
  },
  {
   "cell_type": "markdown",
   "metadata": {
    "id": "r5CG2Sbe2gKC"
   },
   "source": [
    "Another important aspect to explore from the data before doing any type of analysis is checking if the dataset contains any sort of duplicate rows. For checking this \".duplicated()\" is applied to the data and stored in a variable \"duplicates\".\n",
    "\n",
    "Then, a new DataFrame \"duplicated_rows\" is generated to contain only the duplicate rows of the original DataFrame \"data\".\n",
    "\n",
    "The last step is printing the new DataFrame to see all the duplicates"
   ]
  },
  {
   "cell_type": "code",
   "execution_count": 7,
   "metadata": {
    "colab": {
     "base_uri": "https://localhost:8080/"
    },
    "id": "2InubfPK1oNQ",
    "outputId": "5ee46f68-fe53-49d9-a786-f7e8a1a9589e"
   },
   "outputs": [
    {
     "name": "stdout",
     "output_type": "stream",
     "text": [
      "Duplicated rows:\n",
      "Empty DataFrame\n",
      "Columns: [Unnamed: 0, ref, company, company_location, review_date, country_of_bean_origin, specific_bean_origin_or_bar_name, cocoa_percent, rating, counts_of_ingredients, beans, cocoa_butter, vanilla, lecithin, salt, sugar, sweetener_without_sugar, first_taste, second_taste, third_taste, fourth_taste]\n",
      "Index: []\n",
      "\n",
      "[0 rows x 21 columns]\n"
     ]
    }
   ],
   "source": [
    "duplicates = data.duplicated()\n",
    "duplicated_rows = data[duplicates]\n",
    "\n",
    "print(\"Duplicated rows:\")\n",
    "print(duplicated_rows)"
   ]
  },
  {
   "cell_type": "markdown",
   "metadata": {
    "id": "hVPbSzIe5Xgc"
   },
   "source": [
    "As can be observed, the created dataframe for duplicates called \"duplicated_rows\" has 0 rows. This means that the original dataset has not duplicated rows."
   ]
  },
  {
   "cell_type": "markdown",
   "metadata": {
    "id": "wFrnCinJ4LkV"
   },
   "source": [
    "###Exploration of numerical data"
   ]
  },
  {
   "cell_type": "code",
   "execution_count": 8,
   "metadata": {
    "colab": {
     "base_uri": "https://localhost:8080/",
     "height": 237
    },
    "id": "XXZd38_1lh71",
    "outputId": "e55fec5e-7a5e-4560-b9db-717e17696bb5"
   },
   "outputs": [
    {
     "data": {
      "text/html": [
       "<div>\n",
       "<style scoped>\n",
       "    .dataframe tbody tr th:only-of-type {\n",
       "        vertical-align: middle;\n",
       "    }\n",
       "\n",
       "    .dataframe tbody tr th {\n",
       "        vertical-align: top;\n",
       "    }\n",
       "\n",
       "    .dataframe thead th {\n",
       "        text-align: right;\n",
       "    }\n",
       "</style>\n",
       "<table border=\"1\" class=\"dataframe\">\n",
       "  <thead>\n",
       "    <tr style=\"text-align: right;\">\n",
       "      <th></th>\n",
       "      <th>count</th>\n",
       "      <th>mean</th>\n",
       "      <th>std</th>\n",
       "      <th>min</th>\n",
       "      <th>25%</th>\n",
       "      <th>50%</th>\n",
       "      <th>75%</th>\n",
       "      <th>max</th>\n",
       "    </tr>\n",
       "  </thead>\n",
       "  <tbody>\n",
       "    <tr>\n",
       "      <th>Unnamed: 0</th>\n",
       "      <td>2224.0</td>\n",
       "      <td>1111.500000</td>\n",
       "      <td>642.157821</td>\n",
       "      <td>0.0</td>\n",
       "      <td>555.75</td>\n",
       "      <td>1111.50</td>\n",
       "      <td>1667.25</td>\n",
       "      <td>2223.0</td>\n",
       "    </tr>\n",
       "    <tr>\n",
       "      <th>ref</th>\n",
       "      <td>2224.0</td>\n",
       "      <td>1337.010342</td>\n",
       "      <td>693.959768</td>\n",
       "      <td>5.0</td>\n",
       "      <td>776.00</td>\n",
       "      <td>1381.00</td>\n",
       "      <td>1928.00</td>\n",
       "      <td>2490.0</td>\n",
       "    </tr>\n",
       "    <tr>\n",
       "      <th>review_date</th>\n",
       "      <td>2224.0</td>\n",
       "      <td>2013.857914</td>\n",
       "      <td>3.582151</td>\n",
       "      <td>2006.0</td>\n",
       "      <td>2011.00</td>\n",
       "      <td>2014.00</td>\n",
       "      <td>2016.00</td>\n",
       "      <td>2020.0</td>\n",
       "    </tr>\n",
       "    <tr>\n",
       "      <th>cocoa_percent</th>\n",
       "      <td>2224.0</td>\n",
       "      <td>71.493930</td>\n",
       "      <td>5.278253</td>\n",
       "      <td>42.0</td>\n",
       "      <td>70.00</td>\n",
       "      <td>70.00</td>\n",
       "      <td>74.00</td>\n",
       "      <td>100.0</td>\n",
       "    </tr>\n",
       "    <tr>\n",
       "      <th>rating</th>\n",
       "      <td>2224.0</td>\n",
       "      <td>3.198561</td>\n",
       "      <td>0.434329</td>\n",
       "      <td>1.0</td>\n",
       "      <td>3.00</td>\n",
       "      <td>3.25</td>\n",
       "      <td>3.50</td>\n",
       "      <td>4.0</td>\n",
       "    </tr>\n",
       "    <tr>\n",
       "      <th>counts_of_ingredients</th>\n",
       "      <td>2224.0</td>\n",
       "      <td>3.075989</td>\n",
       "      <td>0.929875</td>\n",
       "      <td>1.0</td>\n",
       "      <td>2.00</td>\n",
       "      <td>3.00</td>\n",
       "      <td>4.00</td>\n",
       "      <td>6.0</td>\n",
       "    </tr>\n",
       "  </tbody>\n",
       "</table>\n",
       "</div>"
      ],
      "text/plain": [
       "                        count         mean         std     min      25%  \\\n",
       "Unnamed: 0             2224.0  1111.500000  642.157821     0.0   555.75   \n",
       "ref                    2224.0  1337.010342  693.959768     5.0   776.00   \n",
       "review_date            2224.0  2013.857914    3.582151  2006.0  2011.00   \n",
       "cocoa_percent          2224.0    71.493930    5.278253    42.0    70.00   \n",
       "rating                 2224.0     3.198561    0.434329     1.0     3.00   \n",
       "counts_of_ingredients  2224.0     3.075989    0.929875     1.0     2.00   \n",
       "\n",
       "                           50%      75%     max  \n",
       "Unnamed: 0             1111.50  1667.25  2223.0  \n",
       "ref                    1381.00  1928.00  2490.0  \n",
       "review_date            2014.00  2016.00  2020.0  \n",
       "cocoa_percent            70.00    74.00   100.0  \n",
       "rating                    3.25     3.50     4.0  \n",
       "counts_of_ingredients     3.00     4.00     6.0  "
      ]
     },
     "execution_count": 8,
     "metadata": {},
     "output_type": "execute_result"
    }
   ],
   "source": [
    "'''\n",
    "Since I found that some of the columns contain numerical information, an initial statistical analysis will be conducted on these columns.\n",
    "For doing so, the function \"describe()\" is used on the DataFrame. This shows basic statistical information of only the numerical columns of the dataset.\n",
    "Basically, it shows the number of entries, the mean, standard deviation, minimum value, 25th percentile, 50th percentile (known as median), 75th percentile and maximum value.\n",
    "Additionally the function is followed by \".T\" which transposes the table making it easier to read.\n",
    "\n",
    "'''\n",
    "\n",
    "data.describe().T"
   ]
  },
  {
   "cell_type": "markdown",
   "metadata": {
    "id": "bd22lyJ8Jgz5"
   },
   "source": [
    "This brief statistical description of the numerical columns already provides very useful information for understanding the chocolate bar market and the ratings within it.\n",
    "\n",
    "In the first place, I found that the period of the reviews oscillates between the 2006 and the 2020, which means that this study covers a range of 14 years of ratings in the chocolate bar maket.\n",
    "\n",
    "On a second note, the best rating given to a chocolate bar during this period was 4.0. This is barely enough to classify that chocolate bar in the \"Outstanding\" category. However, since it is known from the beggining that the best possible rate that a bar could acquire is 5.0, it is evident that there is room for improvement in the market of chocolate bars.\n",
    "\n",
    "Additionally, it can be observed that the average rating for cholate bars is 3.2 with a standar deviation of 0.43. This suggests that the ratings of the bars are relatively consistent and clustered closely around the mean value of 3.2.\n"
   ]
  },
  {
   "cell_type": "code",
   "execution_count": 9,
   "metadata": {
    "colab": {
     "base_uri": "https://localhost:8080/",
     "height": 472
    },
    "id": "53w4Rx71t0IR",
    "outputId": "3782ba9e-abbb-474d-8a57-575edf773118"
   },
   "outputs": [
    {
     "data": {
      "image/png": "[encoded data removed]",
      "text/plain": [
       "<Figure size 640x480 with 1 Axes>"
      ]
     },
     "metadata": {},
     "output_type": "display_data"
    }
   ],
   "source": [
    "#For having a better approach to the rating column, a histogram depicting the distribution of this values is generated.\n",
    "\n",
    "data.hist(\"rating\")\n",
    "plt.title(\"Rating Distribution\")\n",
    "plt.xlabel(\"Rating\")\n",
    "plt.ylabel(\"Number of reviews\")\n",
    "plt.show()"
   ]
  },
  {
   "cell_type": "markdown",
   "metadata": {
    "id": "adNYAdbHomf5"
   },
   "source": [
    "With this histogram it is evident that most of the chocolate bars got a review that oscillates between 2.5 and 4.0."
   ]
  },
  {
   "cell_type": "code",
   "execution_count": 10,
   "metadata": {
    "colab": {
     "base_uri": "https://localhost:8080/",
     "height": 472
    },
    "id": "jyAo-LgGpGHc",
    "outputId": "b95e881e-1b01-4e03-c34e-030f7c24f341"
   },
   "outputs": [
    {
     "data": {
      "image/png": "[encoded data removed]",
      "text/plain": [
       "<Figure size 640x480 with 1 Axes>"
      ]
     },
     "metadata": {},
     "output_type": "display_data"
    }
   ],
   "source": [
    "#To see if the reviews are all focused on a specific year or if they are well spread throught the period of 2006 and 2020 a histogram for the column year will be generated as well.\n",
    "#It is done in yellow color to differetiate it from the previous one\n",
    "\n",
    "data[\"review_date\"].hist(color=\"yellow\")\n",
    "plt.title(\"Review date Distribution\")\n",
    "plt.xlabel(\"Year\")\n",
    "plt.ylabel(\"Number of reviews\")\n",
    "plt.show()"
   ]
  },
  {
   "cell_type": "markdown",
   "metadata": {
    "id": "rX9Mt2QCv0pi"
   },
   "source": [
    "In this histogram it is seen that the reviews of the chocolate bar market were conducted well spread throughout the period, but mainly between 2009 and 2020. It is also shown that 2013 is the year with most reviews (more than 400 were done in that year)."
   ]
  },
  {
   "cell_type": "markdown",
   "metadata": {
    "id": "wDwkikkx0QNK"
   },
   "source": [
    "##Data cleansing and preprocessing"
   ]
  },
  {
   "cell_type": "markdown",
   "metadata": {
    "id": "Por9SZ7Y0n5S"
   },
   "source": [
    "As it was observed previously this dataset has not duplicated rows. However there are still two main issues that must be addressed to clean the data:\n",
    "\n",
    "1. The presence of the two index columns\n",
    "2. The presence of some missing values in the dataset\n",
    "\n",
    "At the end of this phase, a dataset with just one index column and with no missing values is desired."
   ]
  },
  {
   "cell_type": "markdown",
   "metadata": {
    "id": "Qu32UrM3VIyp"
   },
   "source": [
    "###1. The presence of the two index columns"
   ]
  },
  {
   "cell_type": "markdown",
   "metadata": {
    "id": "AfPwF-4HWwL6"
   },
   "source": [
    "For addressing this issue I check if in fact the first two columns are identical or not. For doing so, a new dataframe \"df\" is created with the function pd.DataFrame(data).\n",
    "\n",
    "Then the test to check if the index column and the \"Unamed: 0\" column are the same is conducted. This is done with a line of code that basically compares each element of the index with the corresponding element of the first column of the DataFrame df. The code for this is \"df.index == df.iloc[:, 0].all()\". After this, the line of code stores a result \"True\" or \"False\" depending if all the elements are all the same or not. This result is assigned to a variable \"index_and_column_are_same\".\n",
    "\n",
    "Afterwards, a logic test is done with the conditional statements \"if\" and \"else\". If the result of the new variable \"index_and_column_are_same\" is \"True\" the line \"Are the same\" is printed and if it is \"False\" the line \"Are not the same.\" is printed instead."
   ]
  },
  {
   "cell_type": "code",
   "execution_count": 11,
   "metadata": {
    "colab": {
     "base_uri": "https://localhost:8080/"
    },
    "id": "8qmwK1u7XFtT",
    "outputId": "1a6b1968-5848-4188-e97b-fbf584bdc94b"
   },
   "outputs": [
    {
     "name": "stdout",
     "output_type": "stream",
     "text": [
      "Are the same.\n"
     ]
    }
   ],
   "source": [
    "df = pd.DataFrame(data)\n",
    "\n",
    "index_and_column_are_same = (df.index == df.iloc[:, 0]).all()\n",
    "\n",
    "if index_and_column_are_same:\n",
    "    print(\"Are the same.\")\n",
    "else:\n",
    "    print(\"Are not the same.\")"
   ]
  },
  {
   "cell_type": "markdown",
   "metadata": {
    "id": "Y8sNfdmMfTCs"
   },
   "source": [
    "After making the check, the result turned out to be true which means that the index column of the dataset is in fact identical to the \"Unamed: 0\" column\". For this reason, I decide to remove one of the columns. In this case I remove the index column that was originally in the dataset instead of the one generated automatically by pandas.\n",
    "\n",
    "For doing so I use \".drop(columns=[\"Unnamed: 0\"], inplace=True)\" function on the original dataset. With this I call the colunm \"Unnamed: 0\" for deleting it and the \"inplace=True\" makes that the modification is made on the original DataFrame \"data\"\n",
    "\n",
    "Then I use again .head() function in order to see if the issue is fixed.\n"
   ]
  },
  {
   "cell_type": "code",
   "execution_count": 12,
   "metadata": {
    "colab": {
     "base_uri": "https://localhost:8080/",
     "height": 101
    },
    "id": "NmaKYB_VzHjH",
    "outputId": "47c7f23f-9d65-4ea4-b8e6-d38cc21ff98d"
   },
   "outputs": [
    {
     "data": {
      "text/html": [
       "<div>\n",
       "<style scoped>\n",
       "    .dataframe tbody tr th:only-of-type {\n",
       "        vertical-align: middle;\n",
       "    }\n",
       "\n",
       "    .dataframe tbody tr th {\n",
       "        vertical-align: top;\n",
       "    }\n",
       "\n",
       "    .dataframe thead th {\n",
       "        text-align: right;\n",
       "    }\n",
       "</style>\n",
       "<table border=\"1\" class=\"dataframe\">\n",
       "  <thead>\n",
       "    <tr style=\"text-align: right;\">\n",
       "      <th></th>\n",
       "      <th>ref</th>\n",
       "      <th>company</th>\n",
       "      <th>company_location</th>\n",
       "      <th>review_date</th>\n",
       "      <th>country_of_bean_origin</th>\n",
       "      <th>specific_bean_origin_or_bar_name</th>\n",
       "      <th>cocoa_percent</th>\n",
       "      <th>rating</th>\n",
       "      <th>counts_of_ingredients</th>\n",
       "      <th>beans</th>\n",
       "      <th>cocoa_butter</th>\n",
       "      <th>vanilla</th>\n",
       "      <th>lecithin</th>\n",
       "      <th>salt</th>\n",
       "      <th>sugar</th>\n",
       "      <th>sweetener_without_sugar</th>\n",
       "      <th>first_taste</th>\n",
       "      <th>second_taste</th>\n",
       "      <th>third_taste</th>\n",
       "      <th>fourth_taste</th>\n",
       "    </tr>\n",
       "  </thead>\n",
       "  <tbody>\n",
       "    <tr>\n",
       "      <th>0</th>\n",
       "      <td>2454</td>\n",
       "      <td>5150</td>\n",
       "      <td>U.S.A</td>\n",
       "      <td>2019</td>\n",
       "      <td>Madagascar</td>\n",
       "      <td>Bejofo Estate, batch 1</td>\n",
       "      <td>76.0</td>\n",
       "      <td>3.75</td>\n",
       "      <td>3</td>\n",
       "      <td>have_bean</td>\n",
       "      <td>have_cocoa_butter</td>\n",
       "      <td>have_not_vanila</td>\n",
       "      <td>have_not_lecithin</td>\n",
       "      <td>have_not_salt</td>\n",
       "      <td>have_sugar</td>\n",
       "      <td>have_not_sweetener_without_sugar</td>\n",
       "      <td>cocoa</td>\n",
       "      <td>blackberry</td>\n",
       "      <td>full body</td>\n",
       "      <td>NaN</td>\n",
       "    </tr>\n",
       "  </tbody>\n",
       "</table>\n",
       "</div>"
      ],
      "text/plain": [
       "    ref company company_location  review_date country_of_bean_origin  \\\n",
       "0  2454    5150            U.S.A         2019             Madagascar   \n",
       "\n",
       "  specific_bean_origin_or_bar_name  cocoa_percent  rating  \\\n",
       "0           Bejofo Estate, batch 1           76.0    3.75   \n",
       "\n",
       "   counts_of_ingredients      beans       cocoa_butter          vanilla  \\\n",
       "0                      3  have_bean  have_cocoa_butter  have_not_vanila   \n",
       "\n",
       "            lecithin           salt       sugar  \\\n",
       "0  have_not_lecithin  have_not_salt  have_sugar   \n",
       "\n",
       "            sweetener_without_sugar first_taste second_taste third_taste  \\\n",
       "0  have_not_sweetener_without_sugar       cocoa   blackberry   full body   \n",
       "\n",
       "  fourth_taste  \n",
       "0          NaN  "
      ]
     },
     "execution_count": 12,
     "metadata": {},
     "output_type": "execute_result"
    }
   ],
   "source": [
    "data.drop(columns=[\"Unnamed: 0\"], inplace=True)\n",
    "\n",
    "data.head(1)"
   ]
  },
  {
   "cell_type": "markdown",
   "metadata": {
    "id": "blbJXqZe0cwx"
   },
   "source": [
    "As can be observed, the issue was fixed. One column was removed and now there is only one index column now."
   ]
  },
  {
   "cell_type": "markdown",
   "metadata": {
    "id": "noLoLJEy1JCZ"
   },
   "source": [
    "###2. The presence of some missing values in the dataset"
   ]
  },
  {
   "cell_type": "markdown",
   "metadata": {
    "id": "SJMUYX7_4W60"
   },
   "source": [
    "For assessing this issue, I am figuring out how many missing values are in the whole dataset. For this the function \".isna().sum().sum()\" is used. With this we are finding the missing values of all columns and then summing the numbers in to a total. Basically the code \"isna()\" returns a \"True\" value whenever it finds a missing value on \"data\". Then \".sum().sum()\" counts this True values for the whole DataFrame."
   ]
  },
  {
   "cell_type": "code",
   "execution_count": 13,
   "metadata": {
    "colab": {
     "base_uri": "https://localhost:8080/"
    },
    "id": "GzP9gy6YWNMY",
    "outputId": "3c705509-4469-4db9-b715-b915f7966aa6"
   },
   "outputs": [
    {
     "name": "stdout",
     "output_type": "stream",
     "text": [
      "Total number of missing values: 2679\n"
     ]
    }
   ],
   "source": [
    "print(\"Total number of missing values:\", data.isna().sum().sum())"
   ]
  },
  {
   "cell_type": "markdown",
   "metadata": {
    "id": "2jtxw4x57OSQ"
   },
   "source": [
    "There is a total of 2679 null values\n",
    "\n",
    "Now I use the same code but without one of the \".sum()\" functions. So in this case the result will provide me the sum of missing values in each particular column and not the sum of missing values in the whole DataFrame."
   ]
  },
  {
   "cell_type": "code",
   "execution_count": 14,
   "metadata": {
    "colab": {
     "base_uri": "https://localhost:8080/",
     "height": 728
    },
    "id": "PvYfd_9BVSFl",
    "outputId": "8d3d847c-74bc-4649-e73f-fc7c2451497e"
   },
   "outputs": [
    {
     "name": "stdout",
     "output_type": "stream",
     "text": [
      "Number of missing values in each column:\n"
     ]
    },
    {
     "data": {
      "text/plain": [
       "ref                                    0\n",
       "company                                0\n",
       "company_location                       0\n",
       "review_date                            0\n",
       "country_of_bean_origin                 0\n",
       "specific_bean_origin_or_bar_name       0\n",
       "cocoa_percent                          0\n",
       "rating                                 0\n",
       "counts_of_ingredients                  0\n",
       "beans                                  0\n",
       "cocoa_butter                           0\n",
       "vanilla                                0\n",
       "lecithin                               0\n",
       "salt                                   0\n",
       "sugar                                  0\n",
       "sweetener_without_sugar                0\n",
       "first_taste                            0\n",
       "second_taste                          77\n",
       "third_taste                          620\n",
       "fourth_taste                        1982\n",
       "dtype: int64"
      ]
     },
     "execution_count": 14,
     "metadata": {},
     "output_type": "execute_result"
    }
   ],
   "source": [
    "print(\"Number of missing values in each column:\")\n",
    "\n",
    "data.isna().sum()"
   ]
  },
  {
   "cell_type": "markdown",
   "metadata": {
    "id": "hspD9GAM-ZHt"
   },
   "source": [
    "Only the columns (\"second_taste\", \"third_taste\", and \"fourth_taste\") contain missing values. All of these columns are object type and give information about the perception of the of taste of the chocolate bars.\n",
    "\n",
    "It is important to note that most of the null values come from the \"fourth_taste\" column (1982 of 2679). Additionally, the total number of entries is 2224. This means that 89% of that column is represented by missing values, which indicates that \"fourth_taste\" gives a minimal quantity of information. For this reason, I decide to drop this column."
   ]
  },
  {
   "cell_type": "code",
   "execution_count": 15,
   "metadata": {
    "id": "ZDaFtXkmHjX6"
   },
   "outputs": [],
   "source": [
    "data.drop(columns=[\"fourth_taste\"], inplace=True)"
   ]
  },
  {
   "cell_type": "markdown",
   "metadata": {
    "id": "Ft7b-INFHs0g"
   },
   "source": [
    "Now is time to address the other 697 missing values.\n",
    "\n",
    "It is possible to assume that the reason why the \"second_taste\" and \"third_taste\" present missing values is due to the fact that the reviewer did not perceive a second or a third characteristic of the chocolate bar to be highlighted. If this is true, the missing values can be replaced by a new specific value called \"None\", which is the action that is conducted."
   ]
  },
  {
   "cell_type": "code",
   "execution_count": 16,
   "metadata": {
    "id": "uKyspv6w_BH3"
   },
   "outputs": [],
   "source": [
    "#Fill missing values in \"second_taste\" and \"third_taste\" columns with \"None\"\n",
    "data[\"second_taste\"].fillna(\"None\", inplace=True)\n",
    "#\".fillna()\" substitutes the missing values with the imput of the function in this case \"None\".\n",
    "\n",
    "data[\"third_taste\"].fillna(\"None\", inplace=True)"
   ]
  },
  {
   "cell_type": "markdown",
   "metadata": {
    "id": "UwXoPnG-K-vv"
   },
   "source": [
    "I verify the missing values again after the cleansing process"
   ]
  },
  {
   "cell_type": "code",
   "execution_count": 17,
   "metadata": {
    "colab": {
     "base_uri": "https://localhost:8080/"
    },
    "id": "JwLQOJOBLHz1",
    "outputId": "84c8bf8a-5c7e-4ad0-b811-77fdb68504cf"
   },
   "outputs": [
    {
     "name": "stdout",
     "output_type": "stream",
     "text": [
      "Total number of missing values: 0\n"
     ]
    }
   ],
   "source": [
    "print(\"Total number of missing values:\", data.isna().sum().sum())"
   ]
  },
  {
   "cell_type": "markdown",
   "metadata": {
    "id": "Cv0zdcOBLLod"
   },
   "source": [
    "According to the information above. All missing values have been removed from the dataset."
   ]
  },
  {
   "cell_type": "markdown",
   "metadata": {
    "id": "w9gtMNCgMD91"
   },
   "source": [
    "###The dataset after the cleansing and preprocessing"
   ]
  },
  {
   "cell_type": "code",
   "execution_count": 18,
   "metadata": {
    "colab": {
     "base_uri": "https://localhost:8080/"
    },
    "id": "zD7Frb-RMXey",
    "outputId": "3fef6128-73b4-4bf2-c914-68f630b02e0a"
   },
   "outputs": [
    {
     "name": "stdout",
     "output_type": "stream",
     "text": [
      "Shape of the Dataframe: (2224, 19)\n"
     ]
    }
   ],
   "source": [
    "print(\"Shape of the Dataframe:\", data.shape)"
   ]
  },
  {
   "cell_type": "markdown",
   "metadata": {
    "id": "pl0fEuKrMa2p"
   },
   "source": [
    "After, the cleansing and preprocessing process the dataset has not missing values, not duplicate rows and just one index column. It should be noted that the dataset lost two columns in the process which are the duplicate of the index column and the \"fourth_taste\" column."
   ]
  },
  {
   "cell_type": "markdown",
   "metadata": {
    "id": "09H8NKXdNv7o"
   },
   "source": [
    "##Data Analysis"
   ]
  },
  {
   "cell_type": "markdown",
   "metadata": {
    "id": "d-CVmUxxOFrr"
   },
   "source": [
    "Now that the dataset is clean, the study for guiding Chocoprize in their journey of creating the best chocolate bar can continue.\n",
    "\n",
    "For this some interesting business questions about this market will be addressed."
   ]
  },
  {
   "cell_type": "markdown",
   "metadata": {
    "id": "dD-trbOJooSu"
   },
   "source": [
    "###1. How significant is the impact of the percentage of cocoa and the number of ingridients on the rating of chocolate bars?"
   ]
  },
  {
   "cell_type": "markdown",
   "metadata": {
    "id": "J4Sxg8civIJ1"
   },
   "source": [
    "By adressing the impact of these variables, Chocoprize will be able to identify some factors that could affect the rating of a chocolate bar. A correlation matrix is made for analyzing this impact. All the columns that share a correlation value near to \"-1\" or \"1\" will be dependent on each other while all columns that share a correlation value near \"0\" will be mostly independent from each other."
   ]
  },
  {
   "cell_type": "code",
   "execution_count": 19,
   "metadata": {
    "colab": {
     "base_uri": "https://localhost:8080/",
     "height": 161
    },
    "id": "xXYF7wQ0oo5p",
    "outputId": "5d224bd2-f4bd-44c3-bd38-7944b239f45b"
   },
   "outputs": [
    {
     "name": "stdout",
     "output_type": "stream",
     "text": [
      "Correlation Matrix:\n"
     ]
    },
    {
     "data": {
      "text/html": [
       "<style type=\"text/css\">\n",
       "#T_d2ef8_row0_col0, #T_d2ef8_row1_col1, #T_d2ef8_row2_col2 {\n",
       "  background-color: #b40426;\n",
       "  color: #f1f1f1;\n",
       "}\n",
       "#T_d2ef8_row0_col1 {\n",
       "  background-color: #3e51c5;\n",
       "  color: #f1f1f1;\n",
       "}\n",
       "#T_d2ef8_row0_col2, #T_d2ef8_row2_col0, #T_d2ef8_row2_col1 {\n",
       "  background-color: #3b4cc0;\n",
       "  color: #f1f1f1;\n",
       "}\n",
       "#T_d2ef8_row1_col0 {\n",
       "  background-color: #5673e0;\n",
       "  color: #f1f1f1;\n",
       "}\n",
       "#T_d2ef8_row1_col2 {\n",
       "  background-color: #536edd;\n",
       "  color: #f1f1f1;\n",
       "}\n",
       "</style>\n",
       "<table id=\"T_d2ef8_\">\n",
       "  <thead>\n",
       "    <tr>\n",
       "      <th class=\"blank level0\" >&nbsp;</th>\n",
       "      <th class=\"col_heading level0 col0\" >cocoa_percent</th>\n",
       "      <th class=\"col_heading level0 col1\" >rating</th>\n",
       "      <th class=\"col_heading level0 col2\" >counts_of_ingredients</th>\n",
       "    </tr>\n",
       "  </thead>\n",
       "  <tbody>\n",
       "    <tr>\n",
       "      <th id=\"T_d2ef8_level0_row0\" class=\"row_heading level0 row0\" >cocoa_percent</th>\n",
       "      <td id=\"T_d2ef8_row0_col0\" class=\"data row0 col0\" >1.000000</td>\n",
       "      <td id=\"T_d2ef8_row0_col1\" class=\"data row0 col1\" >-0.078508</td>\n",
       "      <td id=\"T_d2ef8_row0_col2\" class=\"data row0 col2\" >-0.189490</td>\n",
       "    </tr>\n",
       "    <tr>\n",
       "      <th id=\"T_d2ef8_level0_row1\" class=\"row_heading level0 row1\" >rating</th>\n",
       "      <td id=\"T_d2ef8_row1_col0\" class=\"data row1 col0\" >-0.078508</td>\n",
       "      <td id=\"T_d2ef8_row1_col1\" class=\"data row1 col1\" >1.000000</td>\n",
       "      <td id=\"T_d2ef8_row1_col2\" class=\"data row1 col2\" >-0.094850</td>\n",
       "    </tr>\n",
       "    <tr>\n",
       "      <th id=\"T_d2ef8_level0_row2\" class=\"row_heading level0 row2\" >counts_of_ingredients</th>\n",
       "      <td id=\"T_d2ef8_row2_col0\" class=\"data row2 col0\" >-0.189490</td>\n",
       "      <td id=\"T_d2ef8_row2_col1\" class=\"data row2 col1\" >-0.094850</td>\n",
       "      <td id=\"T_d2ef8_row2_col2\" class=\"data row2 col2\" >1.000000</td>\n",
       "    </tr>\n",
       "  </tbody>\n",
       "</table>\n"
      ],
      "text/plain": [
       "<pandas.io.formats.style.Styler at 0x2537b1117c8>"
      ]
     },
     "execution_count": 19,
     "metadata": {},
     "output_type": "execute_result"
    }
   ],
   "source": [
    "print(\"Correlation Matrix:\")\n",
    "data[[\"cocoa_percent\", \"rating\", \"counts_of_ingredients\"]].corr().style.background_gradient(cmap='coolwarm')"
   ]
  },
  {
   "cell_type": "markdown",
   "metadata": {
    "id": "N82DlNrjwqvs"
   },
   "source": [
    "The code used to generate the matrix only considers the desired columns for seeing their correlation. \".corr()\" generates the correlation matix itself. \".style.background_gradient()\" allows to choose a background for visualizing the matrix. In this case, the parameter \"cmap\" was choosen and assigned to 'coolwarm' for making a heatmap.\n",
    "\n",
    "\n",
    "The table above evidenciates that all numerical variables are mostly independent from each other since all the values bewtween colums are near \"0\".\n",
    "\n",
    "Answer 1: Percentage of cocoa, number of ingridients and year of the review have not a significant impact on the rating of the chocolate bar market."
   ]
  },
  {
   "cell_type": "markdown",
   "metadata": {
    "id": "YjlH9ppD689_"
   },
   "source": [
    "###2. How the chocolate bars in the market would fit in the quality categories described at the beginning? (Outstanding, Highly Recommended, Recommended, Disappointing, Unpleasant)"
   ]
  },
  {
   "cell_type": "markdown",
   "metadata": {
    "id": "2o-cEr0Oj4XS"
   },
   "source": [
    "For this part, I create a new column with the quality categories following the scale of measure. This is valuable for Chocoprize since they identify the best products (to imitate them) and the worst products(to avoid their practices).\n",
    "\n",
    "For this, is generated a new function \"categorize_rating\" that employs the conditional statements \"if\", \"elif\" and \"else\"."
   ]
  },
  {
   "cell_type": "code",
   "execution_count": 20,
   "metadata": {
    "id": "HW3eZomeltJg"
   },
   "outputs": [],
   "source": [
    "#Define a function to categorize ratings\n",
    "def categorize_rating(rating):\n",
    "    if rating >= 4.0:\n",
    "        return \"Outstanding\"\n",
    "    elif rating >= 3.5:\n",
    "        return \"Highly Recommended\"\n",
    "    elif rating >= 3.0:\n",
    "        return \"Recommended\"\n",
    "    elif rating >= 2.0:\n",
    "        return \"Disappointing\"\n",
    "    else:\n",
    "        return \"Unpleasant\""
   ]
  },
  {
   "cell_type": "markdown",
   "metadata": {
    "id": "JEFGBFDO0l4m"
   },
   "source": [
    "Basically, with the code a new function is created. This new function compares each value of the column \"rating\" with the predifined values of the scale and then selects the return \"value\" that is assigned for each particular case. So for example if a \"rating\" value is \"3.7\" the function asks if this value is bigger or equal to 4.0. If this is True it would return the \"Outstanding\" value but since this is not True, it will ask if it is bigger or equal to 3.5 and because ins this case it is True it return the value \"Highly Recommended\".\n",
    "\n",
    "Then a new column is created for the dataset by applying the returns of the new function \"categorize_rating\"."
   ]
  },
  {
   "cell_type": "code",
   "execution_count": 21,
   "metadata": {
    "id": "t8vabvr2pYTw"
   },
   "outputs": [],
   "source": [
    "data[\"quality_category\"] = data[\"rating\"].apply(categorize_rating)"
   ]
  },
  {
   "cell_type": "markdown",
   "metadata": {
    "id": "zAPHGtbo1vHQ"
   },
   "source": [
    "To answer the question, a bar graph depicting the 5 categories is generated. Each bar contains the values of the number of graph"
   ]
  },
  {
   "cell_type": "code",
   "execution_count": 22,
   "metadata": {
    "colab": {
     "base_uri": "https://localhost:8080/",
     "height": 607
    },
    "id": "I2-dH6Y6zAT5",
    "outputId": "dbea8375-9d0d-4eda-c25c-b5c317b2c068"
   },
   "outputs": [
    {
     "data": {
      "image/png": "[encoded data removed]",
      "text/plain": [
       "<Figure size 800x600 with 1 Axes>"
      ]
     },
     "metadata": {},
     "output_type": "display_data"
    }
   ],
   "source": [
    "plt.figure(figsize=(8, 6))\n",
    "value_counts = data[\"quality_category\"].value_counts()\n",
    "\n",
    "bars = value_counts.plot(kind=\"bar\", color=\"skyblue\")\n",
    "\n",
    "for i, count in enumerate(value_counts):\n",
    "    plt.text(i, count + 0.5, str(count), ha=\"center\", va=\"bottom\")\n",
    "\n",
    "plt.ylabel(\"Number of bars\")\n",
    "plt.title(\"Distribution of Quality Categories\")\n",
    "plt.xticks(rotation=45)\n",
    "plt.tight_layout()\n",
    "plt.show()"
   ]
  },
  {
   "cell_type": "markdown",
   "metadata": {
    "id": "n1FKX4tXBbVK"
   },
   "source": [
    "Answer 2: The chart depicts how the chocolate bars in the market fit in the 5 quality categories. As can be seen in the graph the categories with the biggest amounts of chocolate bars are the ones in the middle of the scale being Disappointing (497), Highly Recommended (754) and Recommended (865). The extreme categories just comprenhend 108 entries from the total of 2224 which means that they represent less than the 5% of the market. It also should be noted that the Unpleasant category only has 7 bars which is the lowest among all categories."
   ]
  },
  {
   "cell_type": "markdown",
   "metadata": {
    "id": "3CtlxFu4HN_G"
   },
   "source": [
    "###3. What are the most recurring tastes found in the top chocolate bars in the market?"
   ]
  },
  {
   "cell_type": "markdown",
   "metadata": {
    "id": "STanMrPvDfjZ"
   },
   "source": [
    "Taking into account that there are 101 chocolate bars in the market that are in the \"Outstanding\" category, let's dive into the criteria that they could have in common for their success in the rating system. This can give hints on how to make an Outstanding chocolate bar. So this question is fundamental to provide insights on what tastes should Chocoprize pursue when making a bar.\n",
    "\n",
    "For this a new dataset (data_top) containing only these entries is created."
   ]
  },
  {
   "cell_type": "code",
   "execution_count": 23,
   "metadata": {
    "colab": {
     "base_uri": "https://localhost:8080/"
    },
    "id": "x9QTGG-pJuV9",
    "outputId": "76443692-bb70-4f82-dd14-3444d01654b2"
   },
   "outputs": [
    {
     "name": "stdout",
     "output_type": "stream",
     "text": [
      "Shape of the Dataframe: (101, 20)\n"
     ]
    }
   ],
   "source": [
    "data_top = data[data[\"quality_category\"] == \"Outstanding\"]\n",
    "\n",
    "print(\"Shape of the Dataframe:\", data_top.shape)"
   ]
  },
  {
   "cell_type": "code",
   "execution_count": 24,
   "metadata": {
    "colab": {
     "base_uri": "https://localhost:8080/"
    },
    "id": "xM53ando7XVc",
    "outputId": "bb9d7665-212e-4765-c9d3-c031ebcf545d"
   },
   "outputs": [
    {
     "name": "stdout",
     "output_type": "stream",
     "text": [
      "Most recurring tastes >= 5:\n",
      "tart: 5\n",
      "creamy: 36\n",
      "balanced: 5\n",
      "nuts: 5\n",
      "complex: 8\n",
      "banana: 6\n",
      "honey: 5\n",
      "floral: 5\n",
      "nutty: 17\n",
      "cocoa: 18\n",
      "None: 31\n",
      "spicy: 6\n"
     ]
    }
   ],
   "source": [
    "all_tastes = [] #Empty list to store all tastes\n",
    "\n",
    "#Iterate through the taste columns and append each taste to the list\n",
    "for col in [\"first_taste\", \"second_taste\", \"third_taste\"]:\n",
    "    all_tastes.extend(data_top[col])\n",
    "\n",
    "#Use Counter to count occurrences of each taste\n",
    "taste_counter = Counter(all_tastes)\n",
    "\n",
    "#Print the most common tastes with count >= 5\n",
    "print(\"Most recurring tastes >= 5:\")\n",
    "for taste, count in taste_counter.items():\n",
    "    if count >= 5:\n",
    "        print(f\"{taste}: {count}\")\n"
   ]
  },
  {
   "cell_type": "markdown",
   "metadata": {
    "id": "K0GH7UITCwpt"
   },
   "source": [
    "The code creates a list where all the values found in the three variables related to taste are stored. It uses a loop that iterates over \"first_taste\", \"second_taste\", \"third_taste\". For each column, it accesses to data_top and insert all the values to the all_tastes list. Then the previously imported \"Counter()\" function counts the amount of times each value appears. Then a second loop is used to print only the tastes that appear 5 or more times in the Outstanding chocolate bars.\n",
    "\n",
    "Answer 3: The most recurring tastes found in the top chocolate bars in the market are: Creamy (36), cocoa (18) and nutty (17)."
   ]
  },
  {
   "cell_type": "markdown",
   "metadata": {
    "id": "pfAEysvjWoeG"
   },
   "source": [
    "###4. How many chocolate bars among the best ones use cocoa butter, vanilla, lecithin, salt, sugar  or a sweetener without sugar?"
   ]
  },
  {
   "cell_type": "markdown",
   "metadata": {
    "id": "6cF07HvXDAQx"
   },
   "source": [
    "Answering this question will allow Chocoprize to find out ideas on  what ingredients are best suited for making a bar according to what the best in the industry use.\n",
    "\n",
    "For this question, I use the function \"groupby\" to group the DataFrame by each column that indicates the usage of a specific ingridient. Then I print the results."
   ]
  },
  {
   "cell_type": "code",
   "execution_count": 25,
   "metadata": {
    "colab": {
     "base_uri": "https://localhost:8080/"
    },
    "id": "Wfv0v4pmW38A",
    "outputId": "0e311a18-705c-406f-dcaa-271dc5fc78ca"
   },
   "outputs": [
    {
     "name": "stdout",
     "output_type": "stream",
     "text": [
      "cocoa_butter\n",
      "have_cocoa_butter        79\n",
      "have_not_cocoa_butter    22\n",
      "dtype: int64\n",
      "vanilla\n",
      "have_not_vanila    88\n",
      "have_vanila        13\n",
      "dtype: int64\n",
      "lecithin\n",
      "have_lecithin        24\n",
      "have_not_lecithin    77\n",
      "dtype: int64\n",
      "salt\n",
      "have_not_salt    101\n",
      "dtype: int64\n",
      "sugar\n",
      "have_sugar    101\n",
      "dtype: int64\n",
      "sweetener_without_sugar\n",
      "have_not_sweetener_without_sugar    101\n",
      "dtype: int64\n"
     ]
    }
   ],
   "source": [
    "#Group data_top by the columns indicating the usage of ingredients\n",
    "cocoa_butter_usage = data_top.groupby(\"cocoa_butter\").size()\n",
    "vanilla_usage = data_top.groupby(\"vanilla\").size()\n",
    "lecithin_usage = data_top.groupby(\"lecithin\").size()\n",
    "salt_usage = data_top.groupby(\"salt\").size()\n",
    "sugar_usage = data_top.groupby(\"sugar\").size()\n",
    "sweetener_usage = data_top.groupby(\"sweetener_without_sugar\").size()\n",
    "\n",
    "print(cocoa_butter_usage)\n",
    "print(vanilla_usage)\n",
    "print(lecithin_usage)\n",
    "print(salt_usage)\n",
    "print(sugar_usage)\n",
    "print(sweetener_usage)"
   ]
  },
  {
   "cell_type": "markdown",
   "metadata": {
    "id": "XNTQ-nUv_AZ5"
   },
   "source": [
    "The code groups the DataFrame by the unique values in each one of the desired columns. It forms groups based on these unique values. Since these columns contain basically positive and negative values (have the ingridient or have not the ingridient), each column will have 1 or 2 groups of unique values. 1 if all the values of a column are the same or 2 if a column has both positive and negative. \".size()\" allows to know how big is each group by counting the amount of times each unique value occurs. Then this counts are stored in new variables and then this variables are printed.\n",
    "\n",
    "\n",
    "Answer 4: According to these results none of the Outstanding bars use salt or a sweetener without sugar as ingridients. All the bars use sugar as an ingridient. Regarding cocoa butter the majority of the bars (79) use it as ingridient. However, just a very few of the best bars have vanilla (13) or lecithin (24)."
   ]
  },
  {
   "cell_type": "markdown",
   "metadata": {
    "id": "65nD-89ocMgp"
   },
   "source": [
    "###5. What locations usually produce the beans for the best chocolate bars in the market?"
   ]
  },
  {
   "cell_type": "markdown",
   "metadata": {
    "id": "YChZZBic_NaC"
   },
   "source": [
    "Choosing a good location to harvest cocoa beans will help greatly Chocoprize to make great quaility bar. For addressing this question a frequency analysis is made on the Outstanding bars."
   ]
  },
  {
   "cell_type": "code",
   "execution_count": 26,
   "metadata": {
    "colab": {
     "base_uri": "https://localhost:8080/"
    },
    "id": "Pk9XoCuucLxa",
    "outputId": "b5bd224e-6748-4620-9885-6994adf85b9d"
   },
   "outputs": [
    {
     "name": "stdout",
     "output_type": "stream",
     "text": [
      "Frequency of countries of bean origin:\n",
      " Venezuela           18\n",
      "Peru                16\n",
      "Madagascar          10\n",
      "Ecuador              8\n",
      "Blend                7\n",
      "Bolivia              5\n",
      "Colombia             5\n",
      "Papua new guinea     4\n",
      "Brazil               4\n",
      "Guatemala            3\n",
      "Mexico               3\n",
      "Haiti                3\n",
      "Costa rica           2\n",
      "Belize               2\n",
      "Nicaragua            2\n",
      "Ghana                2\n",
      "Indonesia            1\n",
      "Solomon islands      1\n",
      "Tanzania             1\n",
      "St. lucia            1\n",
      "Sao tome             1\n",
      "Jamaica              1\n",
      "Vietnam              1\n",
      "Name: country_of_bean_origin, dtype: int64\n",
      "Most common country of bean origin: Venezuela\n"
     ]
    }
   ],
   "source": [
    "country_origin_frequency = data_top[\"country_of_bean_origin\"].value_counts()\n",
    "#A variable that stores the amount of times a value appears on the column \"country_of_bean_origin\"\n",
    "\n",
    "print(\"Frequency of countries of bean origin:\\n\", country_origin_frequency)\n",
    "#\"\\n\" is for making the first value appear below the title\n",
    "\n",
    "print(\"Most common country of bean origin:\", country_origin_frequency.idxmax())\n",
    "#This prints only the most frequent location found in the column"
   ]
  },
  {
   "cell_type": "markdown",
   "metadata": {
    "id": "E3ob9_WIF2Jb"
   },
   "source": [
    "The top 3 countries for growing beans are Venezuela, Peru and Madagascar having 18, 16 and 10 top chocolate bars respectively"
   ]
  },
  {
   "cell_type": "code",
   "execution_count": 27,
   "metadata": {
    "colab": {
     "base_uri": "https://localhost:8080/"
    },
    "id": "CRHGXhE5Aq60",
    "outputId": "d58c8fa5-197b-47bd-e03a-04cafc8ec920"
   },
   "outputs": [
    {
     "name": "stdout",
     "output_type": "stream",
     "text": [
      "Frequency of specific bean origins or bar names:\n",
      " Chuao                              3\n",
      "Madagascar                         3\n",
      "Piura                              3\n",
      "Porcelana                          2\n",
      "Ecuador                            2\n",
      "                                  ..\n",
      "Solomon Is.,batch 17158, N.Vela    1\n",
      "Las Acacias E.                     1\n",
      "Fazenda Camboa, 2017 harvest       1\n",
      "Maya Mtn, Batch 454, Heirloom      1\n",
      "Ocumare                            1\n",
      "Name: specific_bean_origin_or_bar_name, Length: 91, dtype: int64\n",
      "Most common specific bean origin or bar names: ['Chuao', 'Madagascar', 'Piura']\n"
     ]
    }
   ],
   "source": [
    "specific_bean_frequency = data_top[\"specific_bean_origin_or_bar_name\"].value_counts()\n",
    "max_frequency = specific_bean_frequency.max() #variable for storing the maximun frequency of the values in the column\n",
    "\n",
    "#Create a list with all the values that fullfill the condition of appearing the same amount of times as the maximum frequency\n",
    "most_common_names = specific_bean_frequency[specific_bean_frequency == max_frequency].index.tolist()\n",
    "\n",
    "print(\"Frequency of specific bean origins or bar names:\\n\", specific_bean_frequency)\n",
    "print(\"Most common specific bean origin or bar names:\", most_common_names)"
   ]
  },
  {
   "cell_type": "markdown",
   "metadata": {
    "id": "lW4s29CBIz2B"
   },
   "source": [
    "In both cases the code use the \"value.counts()\" funtction to count all the values present in the selected columns.\n",
    "\n",
    "The top 3 specific locations for growing beans are Chuao, Madagascar and Piura. Each of these locations was used 3 times for growing the beans for making an Outstanding chocolate bar.\n",
    "\n",
    "It should be noted that Chuao is a region located in Venezuela and Piura is a city of Peru.\n",
    "\n",
    "\n",
    "Answer 5: The best countries for harvesting cocoa beans are Venezuela, Madagascar and Peru. So in order to produce the best chocolate bar in the market it is highly recommended to grow the beans in one of these countries specially in the locations of Chuao in Venelueza, Piura in Peru or in the Madagascar island."
   ]
  },
  {
   "cell_type": "markdown",
   "metadata": {
    "id": "yOFOUyBUMVGQ"
   },
   "source": [
    "###6. Who are the main competitors and how is the participation in the Outstanding chocolate bar market?"
   ]
  },
  {
   "cell_type": "markdown",
   "metadata": {
    "id": "j5QYHTrcPw83"
   },
   "source": [
    "Knowing which are the best companies in producing bars is essential for Chocoprize sinze this information will help them for further benchmark exercises."
   ]
  },
  {
   "cell_type": "code",
   "execution_count": 28,
   "metadata": {
    "id": "CU8uhvlibRu5"
   },
   "outputs": [],
   "source": [
    "#Copy of data_top\n",
    "data_top_companies = data_top.copy()"
   ]
  },
  {
   "cell_type": "code",
   "execution_count": 29,
   "metadata": {
    "id": "HyzmwRQpcmAV"
   },
   "outputs": [],
   "source": [
    "company_frequency = data_top_companies[\"company\"].value_counts() #Calculate and store the frequency of each company\n",
    "companies_to_replace = company_frequency[company_frequency == 1].index.tolist()#Identify companies with a frequency of 1\n",
    "data_top_companies[\"company\"] = data_top_companies[\"company\"].replace(companies_to_replace, \"Other\") #Replace values with frequency of 1 with 'Other'\n",
    "company_frequency_modified = data_top_companies['company'].value_counts() #Recalculate and store the frequency of the modified dataframe"
   ]
  },
  {
   "cell_type": "code",
   "execution_count": 30,
   "metadata": {
    "colab": {
     "base_uri": "https://localhost:8080/",
     "height": 759
    },
    "id": "FuyJzSXRdyMM",
    "outputId": "244815d9-b412-495e-de9f-a7590700d7f7"
   },
   "outputs": [
    {
     "data": {
      "image/png": "[encoded data removed]",
      "text/plain": [
       "<Figure size 900x900 with 1 Axes>"
      ]
     },
     "metadata": {},
     "output_type": "display_data"
    }
   ],
   "source": [
    "# Plotting the pie chart\n",
    "plt.figure(figsize=(9, 9))\n",
    "company_frequency_modified.plot(kind=\"pie\", autopct=\"%1.1f%%\", fontsize=8) #The fontsize is set to 8 to prevent clipping of labels\n",
    "plt.title(\"Participation of Chocolate Companies in the Outstanding Market\")\n",
    "plt.axis(\"equal\")\n",
    "plt.ylabel('')#Sets the y label to a blank space. Otherwise \"company\" would appear\n",
    "plt.show()"
   ]
  },
  {
   "cell_type": "markdown",
   "metadata": {
    "id": "nje60LADyK6m"
   },
   "source": [
    "For this part, a frequency analysis of competitors is made and then a pie chart is constructed. Since probably there are a lot of companies that only present 1 bar in the Outstandig category, I am replacing all of them under the label \"Other\" which makes the pie chart easier to read. However, for this reason, I create a copy of the \"data_top\" DataFrame to work for preserving the integrity of the dataset.\n",
    "\n",
    "Answer 6: The chart above describes the participation of companies in the Outstanding chocolate bar market. It is shown that Soma is the biggest competitor and exponent in the market by being the producers of 12.9% of the best chocolate bars in the market. The other two companies that complete the top 3 are Bonnat with a 7.9% and Arete with a 5.9% of participation."
   ]
  },
  {
   "cell_type": "markdown",
   "metadata": {
    "id": "hTpwqIf0D2GK"
   },
   "source": [
    "##Discussion and conclusion"
   ]
  },
  {
   "cell_type": "markdown",
   "metadata": {
    "id": "6op-7zCrD-k5"
   },
   "source": [
    "With this study valuable insights of the chocolate bar market were found. Indeed, It was found that only the 5% of the market is considered Outstanding in terms of rating. If Chocoprize wants to create a bar in the capacity of reaching or surpassing this 5% it is essential to consider various factors. To begin with, an outstading chocolate bar would taste creamy, cocoa or nutty and would use cocoa beans, cocoa butter and sugar as their main ingredients avoiding salt and other sweeteners. The beans should be harvested in tropical zones like Chuao in Venezuela or Madagascar.\n",
    "\n",
    "Additionally, for further market research, Chocoprize should focus on benchmark exercises with companies like Soma, Bonnat and Arete which are clearly role models in making Outstading chocolate bars.\n",
    "\n",
    "Finally, it should be noted that this study has some limitations. In the first place, the data did not contain sales or profit information, which obviously is important to consider before making huge investments on the market. Also, it is possible that there are other factors that affect the rating of a chocolate bar that are not included in the data. For that reason, a situation in which the desired rating is not obtained could occur even if Chocoprize follows the insights of this properly. Indeed, my datadriven recommendations would be to explore additional features or data sources that may give more lights on the process of making an Outstanding chocolate bar."
   ]
  },
  {
   "cell_type": "markdown",
   "metadata": {
    "id": "xIRbQ1F5JcID"
   },
   "source": [
    "##References"
   ]
  },
  {
   "cell_type": "markdown",
   "metadata": {
    "id": "h7Z1Lc8eJf17"
   },
   "source": [
    "Ghaderi S., & Jannesar B. (2020) Chocolate Bar 2020. Available at: https://www.kaggle.com/datasets/soroushghaderi/chocolate-bar-2020?resource=download. (Accessed: 15 March 2024)."
   ]
  }
 ],
 "metadata": {
  "colab": {
   "provenance": []
  },
  "kernelspec": {
   "display_name": "Python 3 (ipykernel)",
   "language": "python",
   "name": "python3"
  },
  "language_info": {
   "codemirror_mode": {
    "name": "ipython",
    "version": 3
   },
   "file_extension": ".py",
   "mimetype": "text/x-python",
   "name": "python",
   "nbconvert_exporter": "python",
   "pygments_lexer": "ipython3",
   "version": "3.7.12"
  }
 },
 "nbformat": 4,
 "nbformat_minor": 1
}
