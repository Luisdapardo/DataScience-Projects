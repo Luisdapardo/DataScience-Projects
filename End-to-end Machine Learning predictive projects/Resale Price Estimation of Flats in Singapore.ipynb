{
 "cells": [
  {
   "cell_type": "markdown",
   "metadata": {
    "id": "FhjB3LAaaEhv"
   },
   "source": [
    "##Luis David Pardo Pedraza"
   ]
  },
  {
   "cell_type": "markdown",
   "metadata": {},
   "source": [
    "##Resale Price Estimation of Flats in Singapore: A Machine Learning Perspective"
   ]
  },
  {
   "cell_type": "markdown",
   "metadata": {},
   "source": [
    "Fictional case study. Main focus on building an end-to-end Machine Learning predictive pipeline."
   ]
  },
  {
   "cell_type": "markdown",
   "metadata": {
    "id": "XSUncyWfaIio"
   },
   "source": [
    "##Business problem"
   ]
  },
  {
   "cell_type": "markdown",
   "metadata": {
    "id": "Y9-29U-paNGI"
   },
   "source": [
    "This notebook aims to provide useful insights to a new entrant company in the real estate market of Singapore called NewHouse Investments. By leveraging historical sales data and property attributes the study wants to build a model that gives valuable information for future investments. This model will help the company to understand the market and make informed decisions about purchasing real estate across various towns in Singapore.\n",
    "\n",
    "The main idea is to build a machine learning predictive model that can estimate the resale price of a property listed on the market based on various features of the flats such as location, size, and type of the flat.  "
   ]
  },
  {
   "cell_type": "markdown",
   "metadata": {
    "id": "LO6JzT8c_RnL"
   },
   "source": [
    "##Import relevant libraries"
   ]
  },
  {
   "cell_type": "markdown",
   "metadata": {
    "id": "qjMeNle7AZ8w"
   },
   "source": [
    "In this step all the libraries that are used are imported."
   ]
  },
  {
   "cell_type": "code",
   "execution_count": 1,
   "metadata": {
    "id": "q4sTBNSX_PMk"
   },
   "outputs": [],
   "source": [
    "import pandas as pd\n",
    "import matplotlib.pyplot as plt\n",
    "from sklearn.preprocessing import LabelEncoder\n",
    "from sklearn.model_selection import train_test_split\n",
    "from sklearn.linear_model import LinearRegression\n",
    "from sklearn.tree import DecisionTreeRegressor\n",
    "from sklearn.ensemble import RandomForestRegressor\n",
    "from sklearn.model_selection import GridSearchCV\n",
    "from sklearn.metrics import mean_squared_error\n",
    "from sklearn.metrics import r2_score\n",
    "import numpy as np"
   ]
  },
  {
   "cell_type": "markdown",
   "metadata": {
    "id": "ZcqQ5wY0712n"
   },
   "source": [
    "##Data collection"
   ]
  },
  {
   "cell_type": "markdown",
   "metadata": {
    "id": "uwQISPIEae8U"
   },
   "source": [
    "For obtaining relevant data, I am consulting a couple of datasets originally provided by the Housing Development Board, a statutory board under the Ministry of National Development of Singapore.\n",
    "\n",
    "The first dataset contains valuable information of flats sold between 2015 and 2016. The second dataset has the same kind of information but from 2017 onwards. The idea is to combine both datasets to get a bigger one with the information from 2015 onwards.\n",
    "\n",
    "The original datasets can be found in the following link:\n",
    "\n",
    "https://www.kaggle.com/datasets/syrahmadi/resale-hdb-flat-prices-2000-2022?select=ResaleflatpricesbasedonregistrationdatefromJan2017onwards.csv"
   ]
  },
  {
   "cell_type": "markdown",
   "metadata": {
    "id": "EuRmU6WA-X3D"
   },
   "source": [
    "###Accessing and loading the data"
   ]
  },
  {
   "cell_type": "markdown",
   "metadata": {
    "id": "KxegJDFh-YxD"
   },
   "source": [
    "In order to access and load the data, the following steps are performed:\n",
    "\n",
    "1. Click the link of the dataset\n",
    "2. Select \"resale-flat-prices-based-on-registration-date-from-jan-2015-to-dec-2016.csv\" dataset\n",
    "3. Download the dataset to my computer\n",
    "4. Upload the dataset to the File Explorer specifically to the \"content/sample_data\" directory.\n",
    "5. Assign the path of the dataset to a variable \"file_path_1\"\n",
    "6. Use the \"read_csv()\" function of pandas to read the dataset.\n",
    "7. Assign the new DataFrame to a variable \"data_1\".\n",
    "8. Repeat the same steps for reading the file \"ResaleflatpricesbasedonregistrationdatefromJan2017onwards.csv\" but creating variables \"file_path_2\" and \"data_2\" instead."
   ]
  },
  {
   "cell_type": "code",
   "execution_count": 2,
   "metadata": {
    "id": "Xb1gd5lfYR9o"
   },
   "outputs": [],
   "source": [
    "file_path_1 = r\"C:\\Users\\luisd\\OneDrive\\Desktop\\Python_projects\\Datasets\\resale-flat-prices-based-on-registration-date-from-jan-2015-to-dec-2016.csv\"\n",
    "\n",
    "data_1 = pd.read_csv(file_path_1)\n",
    "\n",
    "file_path_2 = r\"C:\\Users\\luisd\\OneDrive\\Desktop\\Python_projects\\Datasets\\ResaleflatpricesbasedonregistrationdatefromJan2017onwards.csv\"\n",
    "\n",
    "data_2 = pd.read_csv(file_path_2)"
   ]
  },
  {
   "cell_type": "markdown",
   "metadata": {
    "id": "Iuj5b6eQAOb9"
   },
   "source": [
    "###Combining the datasets"
   ]
  },
  {
   "cell_type": "code",
   "execution_count": 3,
   "metadata": {
    "colab": {
     "base_uri": "https://localhost:8080/",
     "height": 115
    },
    "id": "wwhHfqy7YuVo",
    "outputId": "d7e65f60-b141-4218-ce15-603f9a02d063"
   },
   "outputs": [
    {
     "data": {
      "text/html": [
       "<div>\n",
       "<style scoped>\n",
       "    .dataframe tbody tr th:only-of-type {\n",
       "        vertical-align: middle;\n",
       "    }\n",
       "\n",
       "    .dataframe tbody tr th {\n",
       "        vertical-align: top;\n",
       "    }\n",
       "\n",
       "    .dataframe thead th {\n",
       "        text-align: right;\n",
       "    }\n",
       "</style>\n",
       "<table border=\"1\" class=\"dataframe\">\n",
       "  <thead>\n",
       "    <tr style=\"text-align: right;\">\n",
       "      <th></th>\n",
       "      <th>month</th>\n",
       "      <th>town</th>\n",
       "      <th>flat_type</th>\n",
       "      <th>block</th>\n",
       "      <th>street_name</th>\n",
       "      <th>storey_range</th>\n",
       "      <th>floor_area_sqm</th>\n",
       "      <th>flat_model</th>\n",
       "      <th>lease_commence_date</th>\n",
       "      <th>remaining_lease</th>\n",
       "      <th>resale_price</th>\n",
       "    </tr>\n",
       "  </thead>\n",
       "  <tbody>\n",
       "    <tr>\n",
       "      <th>0</th>\n",
       "      <td>2015-01</td>\n",
       "      <td>ANG MO KIO</td>\n",
       "      <td>3 ROOM</td>\n",
       "      <td>174</td>\n",
       "      <td>ANG MO KIO AVE 4</td>\n",
       "      <td>07 TO 09</td>\n",
       "      <td>60.0</td>\n",
       "      <td>Improved</td>\n",
       "      <td>1986</td>\n",
       "      <td>70</td>\n",
       "      <td>255000.0</td>\n",
       "    </tr>\n",
       "  </tbody>\n",
       "</table>\n",
       "</div>"
      ],
      "text/plain": [
       "     month        town flat_type block       street_name storey_range  \\\n",
       "0  2015-01  ANG MO KIO    3 ROOM   174  ANG MO KIO AVE 4     07 TO 09   \n",
       "\n",
       "   floor_area_sqm flat_model  lease_commence_date  remaining_lease  \\\n",
       "0            60.0   Improved                 1986               70   \n",
       "\n",
       "   resale_price  \n",
       "0      255000.0  "
      ]
     },
     "execution_count": 3,
     "metadata": {},
     "output_type": "execute_result"
    }
   ],
   "source": [
    "data_1.head(1)"
   ]
  },
  {
   "cell_type": "code",
   "execution_count": 4,
   "metadata": {
    "colab": {
     "base_uri": "https://localhost:8080/",
     "height": 115
    },
    "id": "QmfUd4JTY78N",
    "outputId": "fd72b809-b5fe-4a26-daa1-e447488f560d"
   },
   "outputs": [
    {
     "data": {
      "text/html": [
       "<div>\n",
       "<style scoped>\n",
       "    .dataframe tbody tr th:only-of-type {\n",
       "        vertical-align: middle;\n",
       "    }\n",
       "\n",
       "    .dataframe tbody tr th {\n",
       "        vertical-align: top;\n",
       "    }\n",
       "\n",
       "    .dataframe thead th {\n",
       "        text-align: right;\n",
       "    }\n",
       "</style>\n",
       "<table border=\"1\" class=\"dataframe\">\n",
       "  <thead>\n",
       "    <tr style=\"text-align: right;\">\n",
       "      <th></th>\n",
       "      <th>month</th>\n",
       "      <th>town</th>\n",
       "      <th>flat_type</th>\n",
       "      <th>block</th>\n",
       "      <th>street_name</th>\n",
       "      <th>storey_range</th>\n",
       "      <th>floor_area_sqm</th>\n",
       "      <th>flat_model</th>\n",
       "      <th>lease_commence_date</th>\n",
       "      <th>remaining_lease</th>\n",
       "      <th>resale_price</th>\n",
       "    </tr>\n",
       "  </thead>\n",
       "  <tbody>\n",
       "    <tr>\n",
       "      <th>0</th>\n",
       "      <td>2017-01</td>\n",
       "      <td>ANG MO KIO</td>\n",
       "      <td>2 ROOM</td>\n",
       "      <td>406</td>\n",
       "      <td>ANG MO KIO AVE 10</td>\n",
       "      <td>10 TO 12</td>\n",
       "      <td>44.0</td>\n",
       "      <td>Improved</td>\n",
       "      <td>1979</td>\n",
       "      <td>61 years 04 months</td>\n",
       "      <td>232000.0</td>\n",
       "    </tr>\n",
       "  </tbody>\n",
       "</table>\n",
       "</div>"
      ],
      "text/plain": [
       "     month        town flat_type block        street_name storey_range  \\\n",
       "0  2017-01  ANG MO KIO    2 ROOM   406  ANG MO KIO AVE 10     10 TO 12   \n",
       "\n",
       "   floor_area_sqm flat_model  lease_commence_date     remaining_lease  \\\n",
       "0            44.0   Improved                 1979  61 years 04 months   \n",
       "\n",
       "   resale_price  \n",
       "0      232000.0  "
      ]
     },
     "execution_count": 4,
     "metadata": {},
     "output_type": "execute_result"
    }
   ],
   "source": [
    "data_2.head(1)"
   ]
  },
  {
   "cell_type": "markdown",
   "metadata": {
    "id": "WE_E3bULAdP_"
   },
   "source": [
    "For combining the dataset I am conducting an initial visualization of each dataset. As can be seen they both share the same columns. However, it seems that the column \"remaining_lease\" has numerical values in the first dataset while it has string values in the second dataset. If this is the case, this issue must be solved before combining the datasets.\n",
    "\n",
    "To verify this I am checking the data type for this column specifically."
   ]
  },
  {
   "cell_type": "code",
   "execution_count": 5,
   "metadata": {
    "colab": {
     "base_uri": "https://localhost:8080/"
    },
    "id": "TJ0OP46LBWyW",
    "outputId": "1338a5c7-d68e-49a2-fddb-73b1e64cec55"
   },
   "outputs": [
    {
     "data": {
      "text/plain": [
       "dtype('int64')"
      ]
     },
     "execution_count": 5,
     "metadata": {},
     "output_type": "execute_result"
    }
   ],
   "source": [
    "data_1[\"remaining_lease\"].dtype"
   ]
  },
  {
   "cell_type": "code",
   "execution_count": 6,
   "metadata": {
    "colab": {
     "base_uri": "https://localhost:8080/"
    },
    "id": "jpcHlgocBsTU",
    "outputId": "e44d5a1e-34d1-4b29-edd5-711dd6c20f0a"
   },
   "outputs": [
    {
     "data": {
      "text/plain": [
       "dtype('O')"
      ]
     },
     "execution_count": 6,
     "metadata": {},
     "output_type": "execute_result"
    }
   ],
   "source": [
    "data_2[\"remaining_lease\"].dtype"
   ]
  },
  {
   "cell_type": "markdown",
   "metadata": {
    "id": "ceuGlLo1CQJC"
   },
   "source": [
    "With these results it is evident that the data type for remaining lease is different between the two datasets. For solving this I am converting the data type of remaining_lease from \"data_2\" to integer data.\n",
    "\n",
    "For doing so, I extract the numeric part of the string values and then I replace the original column with a new column that has as values the extracted numbers for each entry."
   ]
  },
  {
   "cell_type": "code",
   "execution_count": 7,
   "metadata": {
    "id": "KnaZkzWQaOJ9"
   },
   "outputs": [],
   "source": [
    "data_2[\"remaining_lease\"] = data_2[\"remaining_lease\"].str.extract(r'(\\d+)').astype(int)"
   ]
  },
  {
   "cell_type": "markdown",
   "metadata": {
    "id": "1qB_gzm-DP-k"
   },
   "source": [
    "Now I can proceed to combine the two datasets creating a new one called \"data\". For doing so I put the entries of the second dataset below the entries of the first dataset with the function .concat(). This combines the two DataFrames along one of the axes. With ignore=index=True the index of the dataset will have a new integer index that starts from 0 to the total number of rows in the combined DataFrame.\n",
    "\n",
    "\n",
    "\n",
    "\n",
    "\n",
    "\n"
   ]
  },
  {
   "cell_type": "code",
   "execution_count": 8,
   "metadata": {
    "id": "XFjWfHa6YgM8"
   },
   "outputs": [],
   "source": [
    "data = pd.concat([data_1, data_2], ignore_index=True)"
   ]
  },
  {
   "cell_type": "markdown",
   "metadata": {
    "id": "vcTGekfE_o2P"
   },
   "source": [
    "##Data exploration"
   ]
  },
  {
   "cell_type": "markdown",
   "metadata": {
    "id": "CXdvt-66aX28"
   },
   "source": [
    "###Data shape and general information"
   ]
  },
  {
   "cell_type": "markdown",
   "metadata": {
    "id": "c2Yg1p4Cmp89"
   },
   "source": [
    "To explore the new dataset, I begin by addressing its size and shape:\n",
    "\n",
    "With \"data.shape\" the form of the dataset is described giving the number of rows and columns in it.\n",
    "\n",
    "Using \"print()\" allows to display inputs of the function. In this case a title text \"Shape of the Dataframe:\" and the actual shape."
   ]
  },
  {
   "cell_type": "code",
   "execution_count": 9,
   "metadata": {
    "colab": {
     "base_uri": "https://localhost:8080/"
    },
    "id": "35oekyN2AlPP",
    "outputId": "db8e617a-d121-4f0f-e703-c8cdc8f4c2b2"
   },
   "outputs": [
    {
     "name": "stdout",
     "output_type": "stream",
     "text": [
      "Shape of the Dataframe: (206737, 11)\n"
     ]
    }
   ],
   "source": [
    "print(\"Shape of the Dataframe:\", data.shape)"
   ]
  },
  {
   "cell_type": "markdown",
   "metadata": {
    "id": "75qHQxGSmopM"
   },
   "source": [
    "As can be observed, the new dataset has 206737 rows and 11 columns. Now let's examine the headers of the columns and their data type."
   ]
  },
  {
   "cell_type": "code",
   "execution_count": 10,
   "metadata": {
    "colab": {
     "base_uri": "https://localhost:8080/"
    },
    "id": "CpBhZDs6DjNN",
    "outputId": "81cf8c24-9636-4da7-91c9-a4fbbc67b07d"
   },
   "outputs": [
    {
     "name": "stdout",
     "output_type": "stream",
     "text": [
      "<class 'pandas.core.frame.DataFrame'>\n",
      "RangeIndex: 206737 entries, 0 to 206736\n",
      "Data columns (total 11 columns):\n",
      " #   Column               Non-Null Count   Dtype  \n",
      "---  ------               --------------   -----  \n",
      " 0   month                206737 non-null  object \n",
      " 1   town                 206737 non-null  object \n",
      " 2   flat_type            206737 non-null  object \n",
      " 3   block                206737 non-null  object \n",
      " 4   street_name          206737 non-null  object \n",
      " 5   storey_range         206737 non-null  object \n",
      " 6   floor_area_sqm       206737 non-null  float64\n",
      " 7   flat_model           206737 non-null  object \n",
      " 8   lease_commence_date  206737 non-null  int64  \n",
      " 9   remaining_lease      206737 non-null  int64  \n",
      " 10  resale_price         206737 non-null  float64\n",
      "dtypes: float64(2), int64(2), object(7)\n",
      "memory usage: 17.4+ MB\n"
     ]
    }
   ],
   "source": [
    "data.info()"
   ]
  },
  {
   "cell_type": "markdown",
   "metadata": {
    "id": "ReaElx0OnR2M"
   },
   "source": [
    "According to the information above the dataset provides the following information of the Singaporean real estate market:\n",
    "\n",
    "1. Month when the property was sold\n",
    "2. Town where the property is\n",
    "3. Type of the flat\n",
    "4. Block number of the building where the property is located\n",
    "5. Name of the street where the property is situated\n",
    "6. Range of storeys in which the property is located\n",
    "7. Floor area of the property in square meters\n",
    "8. Model or layout of the flat\n",
    "9. Year in which the lease of the property commenced\n",
    "10. Remaining lease tenure of the property in years\n",
    "11. Resale price of the property\n",
    "\n",
    "Additionally, the table states that the columns floor_area_sqm, lease_commence_date, remaining_lease and resale_price are the only ones that have numerical values. The rest of the columns have object type data. This means that these last columns probably are categorical variables.\n",
    "\n",
    "Also, since all the columns has the same number of non-missing values as the total number of entries it can said that there are not missing values."
   ]
  },
  {
   "cell_type": "markdown",
   "metadata": {
    "id": "G3sjPdNRc1pa"
   },
   "source": [
    "##Data cleaning and preprocessing"
   ]
  },
  {
   "cell_type": "markdown",
   "metadata": {
    "id": "5KokRlRfdbcj"
   },
   "source": [
    "For this part some aspects of the data quality are discussed:\n",
    "\n",
    "1. Sample size\n",
    "2. Missing values\n",
    "3. Duplicates"
   ]
  },
  {
   "cell_type": "markdown",
   "metadata": {
    "id": "XAMbAVRtjDS5"
   },
   "source": [
    "###1. Sample size"
   ]
  },
  {
   "cell_type": "markdown",
   "metadata": {
    "id": "ijYXJsnNjZIz"
   },
   "source": [
    "At the begining of the notebook it was stated that, for this study, the dataset that is used is the combination of two smaller datasets. The reason for combining the two into just one bigger dataset is that with more data, machine learning models can reach better performance in prediction which is the main objective of this study. \"Having more data is always a good idea. It allows the “data to tell for itself” instead of relying on assumptions and weak correlations. Presence of more data results in better and more accurate machine-learning models\" (Ray S., 2024)."
   ]
  },
  {
   "cell_type": "markdown",
   "metadata": {
    "id": "e9Cakf5EdTXK"
   },
   "source": [
    "###2. Missing values"
   ]
  },
  {
   "cell_type": "markdown",
   "metadata": {
    "id": "P_nL-0k_gItB"
   },
   "source": [
    "In the data exploration step it was evident that there are not missing values in this dataset. However, let's conduct a brief count of the missing values in all the dataset with the \".isna().sum().sum()\". If the result is 0 it means that there are not null values in the dataset."
   ]
  },
  {
   "cell_type": "code",
   "execution_count": 11,
   "metadata": {
    "colab": {
     "base_uri": "https://localhost:8080/"
    },
    "id": "2ht6IuwQTsVN",
    "outputId": "cb05d334-227a-4991-a26a-1c3ccc6a66fe"
   },
   "outputs": [
    {
     "name": "stdout",
     "output_type": "stream",
     "text": [
      "Number of missing values:\n"
     ]
    },
    {
     "data": {
      "text/plain": [
       "0"
      ]
     },
     "execution_count": 11,
     "metadata": {},
     "output_type": "execute_result"
    }
   ],
   "source": [
    "print(\"Number of missing values:\")\n",
    "\n",
    "data.isna().sum().sum()"
   ]
  },
  {
   "cell_type": "markdown",
   "metadata": {
    "id": "fn0s4-tshIXr"
   },
   "source": [
    "###3. Duplicate values"
   ]
  },
  {
   "cell_type": "markdown",
   "metadata": {
    "id": "ehdQkYZBhRlL"
   },
   "source": [
    "To avoid bias and ambiguity it is important to check if the dataset has duplicated values. For this the function \".duplicated()\" is used on the DataFrame. Basically, this returns for each row a True or False value wether it finds a duplicated row or not. Then a DataFrame with only the rows with True values is created and finally the shape of this DataFrame is printed to see how many duplicated values are."
   ]
  },
  {
   "cell_type": "code",
   "execution_count": 12,
   "metadata": {
    "colab": {
     "base_uri": "https://localhost:8080/"
    },
    "id": "M5_juvyuebrE",
    "outputId": "020757b8-cce8-403c-c27f-b85602409552"
   },
   "outputs": [
    {
     "name": "stdout",
     "output_type": "stream",
     "text": [
      "Shape of the Dataframe of duplicated rows: (366, 11)\n"
     ]
    }
   ],
   "source": [
    "duplicates = data.duplicated()\n",
    "duplicated_rows = data[duplicates]\n",
    "print(\"Shape of the Dataframe of duplicated rows:\", duplicated_rows.shape)"
   ]
  },
  {
   "cell_type": "markdown",
   "metadata": {
    "id": "CViL9_wzkvyB"
   },
   "source": [
    "Since there are 366 duplicated rows in the dataset, it is important to remove them in order to clean the dataset."
   ]
  },
  {
   "cell_type": "code",
   "execution_count": 13,
   "metadata": {
    "colab": {
     "base_uri": "https://localhost:8080/"
    },
    "id": "hCUuy3T3lEKy",
    "outputId": "896c65b0-e263-4dd4-83e4-f85350c9fa1a"
   },
   "outputs": [
    {
     "name": "stdout",
     "output_type": "stream",
     "text": [
      "Shape of the Dataframe after removing duplicates: (206371, 11)\n"
     ]
    }
   ],
   "source": [
    "data = data.drop_duplicates()\n",
    "#Verify the shape of the DataFrame after removing duplicates\n",
    "print(\"Shape of the Dataframe after removing duplicates:\", data.shape)"
   ]
  },
  {
   "cell_type": "markdown",
   "metadata": {
    "id": "ME9TITm1PoqU"
   },
   "source": [
    "##Split the data into training, validation and test sets"
   ]
  },
  {
   "cell_type": "markdown",
   "metadata": {
    "id": "wEPuBhQvP-1n"
   },
   "source": [
    "The data is split. 20% of it is for testing while the remaining 80% is for training and validation. A second split is generated with 20% of the remaining 80% for validation (which means 16% of the total dataset) and 64% for training. A random_state value is fixed to ensure reproducibility, meaning that the same split will be generated each time the code is run. Making the split now helps to avoid data lekeage in further steps."
   ]
  },
  {
   "cell_type": "code",
   "execution_count": 14,
   "metadata": {
    "id": "cfadhEnzzJm8"
   },
   "outputs": [
    {
     "name": "stdout",
     "output_type": "stream",
     "text": [
      "Train set shape: (132076, 11)\n",
      "Validation set shape: (33020, 11)\n",
      "Test set shape: (41275, 11)\n"
     ]
    }
   ],
   "source": [
    "train_val, test = train_test_split(data, test_size=0.2, random_state=42)\n",
    "train, val = train_test_split(train_val, test_size=0.2, random_state=42)\n",
    "print(\"Train set shape:\", train.shape)\n",
    "print(\"Validation set shape:\", val.shape)\n",
    "print(\"Test set shape:\", test.shape)"
   ]
  },
  {
   "cell_type": "markdown",
   "metadata": {
    "id": "8pChZ6Sfaekx"
   },
   "source": [
    "###Exploration of numerical data"
   ]
  },
  {
   "cell_type": "markdown",
   "metadata": {
    "id": "d0imbjLzbYz6"
   },
   "source": [
    "####Statistical analysis"
   ]
  },
  {
   "cell_type": "markdown",
   "metadata": {
    "id": "cnhgC7FzalfU"
   },
   "source": [
    "Now let's conduct an initial statistical analysis on the numerical columns. For this, the function \"describe()\" is used on the DataFrame. This shows basic statistical information of only the numerical columns of the dataset. Basically, it shows the number of entries, the mean, standard deviation, minimum value, 25th percentile, 50th percentile (known as median), 75th percentile and maximum value.\n",
    "Also, the function is followed by \".T\" which transposes the table making it easier to read."
   ]
  },
  {
   "cell_type": "code",
   "execution_count": 15,
   "metadata": {
    "colab": {
     "base_uri": "https://localhost:8080/",
     "height": 175
    },
    "id": "4KVJiRvEDhkA",
    "outputId": "47878ff4-5fe2-4bcd-9470-fa26b6fec0ae"
   },
   "outputs": [
    {
     "data": {
      "text/html": [
       "<div>\n",
       "<style scoped>\n",
       "    .dataframe tbody tr th:only-of-type {\n",
       "        vertical-align: middle;\n",
       "    }\n",
       "\n",
       "    .dataframe tbody tr th {\n",
       "        vertical-align: top;\n",
       "    }\n",
       "\n",
       "    .dataframe thead th {\n",
       "        text-align: right;\n",
       "    }\n",
       "</style>\n",
       "<table border=\"1\" class=\"dataframe\">\n",
       "  <thead>\n",
       "    <tr style=\"text-align: right;\">\n",
       "      <th></th>\n",
       "      <th>count</th>\n",
       "      <th>mean</th>\n",
       "      <th>std</th>\n",
       "      <th>min</th>\n",
       "      <th>25%</th>\n",
       "      <th>50%</th>\n",
       "      <th>75%</th>\n",
       "      <th>max</th>\n",
       "    </tr>\n",
       "  </thead>\n",
       "  <tbody>\n",
       "    <tr>\n",
       "      <th>floor_area_sqm</th>\n",
       "      <td>132076.0</td>\n",
       "      <td>97.294662</td>\n",
       "      <td>24.070588</td>\n",
       "      <td>31.0</td>\n",
       "      <td>82.0</td>\n",
       "      <td>94.0</td>\n",
       "      <td>112.0</td>\n",
       "      <td>280.0</td>\n",
       "    </tr>\n",
       "    <tr>\n",
       "      <th>lease_commence_date</th>\n",
       "      <td>132076.0</td>\n",
       "      <td>1994.992095</td>\n",
       "      <td>13.568252</td>\n",
       "      <td>1966.0</td>\n",
       "      <td>1984.0</td>\n",
       "      <td>1995.0</td>\n",
       "      <td>2004.0</td>\n",
       "      <td>2020.0</td>\n",
       "    </tr>\n",
       "    <tr>\n",
       "      <th>remaining_lease</th>\n",
       "      <td>132076.0</td>\n",
       "      <td>74.181570</td>\n",
       "      <td>13.355385</td>\n",
       "      <td>42.0</td>\n",
       "      <td>63.0</td>\n",
       "      <td>74.0</td>\n",
       "      <td>85.0</td>\n",
       "      <td>97.0</td>\n",
       "    </tr>\n",
       "    <tr>\n",
       "      <th>resale_price</th>\n",
       "      <td>132076.0</td>\n",
       "      <td>481729.406124</td>\n",
       "      <td>165677.027413</td>\n",
       "      <td>140000.0</td>\n",
       "      <td>360000.0</td>\n",
       "      <td>450000.0</td>\n",
       "      <td>570000.0</td>\n",
       "      <td>1500000.0</td>\n",
       "    </tr>\n",
       "  </tbody>\n",
       "</table>\n",
       "</div>"
      ],
      "text/plain": [
       "                        count           mean            std       min  \\\n",
       "floor_area_sqm       132076.0      97.294662      24.070588      31.0   \n",
       "lease_commence_date  132076.0    1994.992095      13.568252    1966.0   \n",
       "remaining_lease      132076.0      74.181570      13.355385      42.0   \n",
       "resale_price         132076.0  481729.406124  165677.027413  140000.0   \n",
       "\n",
       "                          25%       50%       75%        max  \n",
       "floor_area_sqm           82.0      94.0     112.0      280.0  \n",
       "lease_commence_date    1984.0    1995.0    2004.0     2020.0  \n",
       "remaining_lease          63.0      74.0      85.0       97.0  \n",
       "resale_price         360000.0  450000.0  570000.0  1500000.0  "
      ]
     },
     "execution_count": 15,
     "metadata": {},
     "output_type": "execute_result"
    }
   ],
   "source": [
    "train.describe().T"
   ]
  },
  {
   "cell_type": "markdown",
   "metadata": {
    "id": "lZcPlbDVKCys"
   },
   "source": [
    "This information provides the first approach to the target variable of this study which is resale_price. It is clear that the average price for a flat in Singapore is around 481000 Singaporean Dollars (SD) with a standard deviation of approximately SD 165677. Also, The lowest resale price observed in the dataset is SD140000, while the highest resale price is SD1500000.\n",
    "\n",
    "Additionally, it can be observed that the size of the flats is in average 97 square meters and oscillates between a minimum value of 31 square meters and a maximum value of 280 square meters.\n",
    "\n",
    "Regarding leasing agreements it can be seen that on average people still have 74 years of remaining tenure of the flats and that the earliest date of leasing is the year 1966."
   ]
  },
  {
   "cell_type": "markdown",
   "metadata": {
    "id": "XRAlEi1ybhYz"
   },
   "source": [
    "####Correlation analysis"
   ]
  },
  {
   "cell_type": "markdown",
   "metadata": {
    "id": "iAxi5-iNblMS"
   },
   "source": [
    "Now let's see how these numerical variables behave in relation with the target variable. For this part a correlation matrix is build."
   ]
  },
  {
   "cell_type": "code",
   "execution_count": 16,
   "metadata": {
    "colab": {
     "base_uri": "https://localhost:8080/",
     "height": 192
    },
    "id": "RQTqAdNSD0tK",
    "outputId": "1e7f5387-fbf0-4b00-d6dd-113cce381839"
   },
   "outputs": [
    {
     "name": "stdout",
     "output_type": "stream",
     "text": [
      "Correlation Matrix:\n"
     ]
    },
    {
     "data": {
      "text/html": [
       "<style type=\"text/css\">\n",
       "#T_d711e_row0_col0, #T_d711e_row1_col1, #T_d711e_row2_col2, #T_d711e_row3_col3 {\n",
       "  background-color: #b40426;\n",
       "  color: #f1f1f1;\n",
       "}\n",
       "#T_d711e_row0_col1 {\n",
       "  background-color: #e4d9d2;\n",
       "  color: #000000;\n",
       "}\n",
       "#T_d711e_row0_col2 {\n",
       "  background-color: #90b2fe;\n",
       "  color: #000000;\n",
       "}\n",
       "#T_d711e_row0_col3 {\n",
       "  background-color: #7a9df8;\n",
       "  color: #f1f1f1;\n",
       "}\n",
       "#T_d711e_row1_col0 {\n",
       "  background-color: #c4d5f3;\n",
       "  color: #000000;\n",
       "}\n",
       "#T_d711e_row1_col2, #T_d711e_row1_col3, #T_d711e_row2_col1, #T_d711e_row3_col0 {\n",
       "  background-color: #3b4cc0;\n",
       "  color: #f1f1f1;\n",
       "}\n",
       "#T_d711e_row2_col0 {\n",
       "  background-color: #4f69d9;\n",
       "  color: #f1f1f1;\n",
       "}\n",
       "#T_d711e_row2_col3, #T_d711e_row3_col2 {\n",
       "  background-color: #bb1b2c;\n",
       "  color: #f1f1f1;\n",
       "}\n",
       "#T_d711e_row3_col1 {\n",
       "  background-color: #3c4ec2;\n",
       "  color: #f1f1f1;\n",
       "}\n",
       "</style>\n",
       "<table id=\"T_d711e_\">\n",
       "  <thead>\n",
       "    <tr>\n",
       "      <th class=\"blank level0\" >&nbsp;</th>\n",
       "      <th class=\"col_heading level0 col0\" >resale_price</th>\n",
       "      <th class=\"col_heading level0 col1\" >floor_area_sqm</th>\n",
       "      <th class=\"col_heading level0 col2\" >lease_commence_date</th>\n",
       "      <th class=\"col_heading level0 col3\" >remaining_lease</th>\n",
       "    </tr>\n",
       "  </thead>\n",
       "  <tbody>\n",
       "    <tr>\n",
       "      <th id=\"T_d711e_level0_row0\" class=\"row_heading level0 row0\" >resale_price</th>\n",
       "      <td id=\"T_d711e_row0_col0\" class=\"data row0 col0\" >1.000000</td>\n",
       "      <td id=\"T_d711e_row0_col1\" class=\"data row0 col1\" >0.605181</td>\n",
       "      <td id=\"T_d711e_row0_col2\" class=\"data row0 col2\" >0.375576</td>\n",
       "      <td id=\"T_d711e_row0_col3\" class=\"data row0 col3\" >0.328490</td>\n",
       "    </tr>\n",
       "    <tr>\n",
       "      <th id=\"T_d711e_level0_row1\" class=\"row_heading level0 row1\" >floor_area_sqm</th>\n",
       "      <td id=\"T_d711e_row1_col0\" class=\"data row1 col0\" >0.605181</td>\n",
       "      <td id=\"T_d711e_row1_col1\" class=\"data row1 col1\" >1.000000</td>\n",
       "      <td id=\"T_d711e_row1_col2\" class=\"data row1 col2\" >0.158511</td>\n",
       "      <td id=\"T_d711e_row1_col3\" class=\"data row1 col3\" >0.164964</td>\n",
       "    </tr>\n",
       "    <tr>\n",
       "      <th id=\"T_d711e_level0_row2\" class=\"row_heading level0 row2\" >lease_commence_date</th>\n",
       "      <td id=\"T_d711e_row2_col0\" class=\"data row2 col0\" >0.375576</td>\n",
       "      <td id=\"T_d711e_row2_col1\" class=\"data row2 col1\" >0.158511</td>\n",
       "      <td id=\"T_d711e_row2_col2\" class=\"data row2 col2\" >1.000000</td>\n",
       "      <td id=\"T_d711e_row2_col3\" class=\"data row2 col3\" >0.982032</td>\n",
       "    </tr>\n",
       "    <tr>\n",
       "      <th id=\"T_d711e_level0_row3\" class=\"row_heading level0 row3\" >remaining_lease</th>\n",
       "      <td id=\"T_d711e_row3_col0\" class=\"data row3 col0\" >0.328490</td>\n",
       "      <td id=\"T_d711e_row3_col1\" class=\"data row3 col1\" >0.164964</td>\n",
       "      <td id=\"T_d711e_row3_col2\" class=\"data row3 col2\" >0.982032</td>\n",
       "      <td id=\"T_d711e_row3_col3\" class=\"data row3 col3\" >1.000000</td>\n",
       "    </tr>\n",
       "  </tbody>\n",
       "</table>\n"
      ],
      "text/plain": [
       "<pandas.io.formats.style.Styler at 0x2345048af48>"
      ]
     },
     "execution_count": 16,
     "metadata": {},
     "output_type": "execute_result"
    }
   ],
   "source": [
    "print(\"Correlation Matrix:\")\n",
    "\n",
    "#Making a correlation matrix with the desired columns and visualizing as a heatmap (warmer color means high correlation)\n",
    "train[[\"resale_price\", \"floor_area_sqm\", \"lease_commence_date\", \"remaining_lease\"]].corr().style.background_gradient(cmap='coolwarm')"
   ]
  },
  {
   "cell_type": "markdown",
   "metadata": {
    "id": "WcosAPx4Vvt6"
   },
   "source": [
    "According to the matrix, floor_area_sqm has a moderately strong positive correlation with the target variable resale_price. This is because, their correlation value is 0.605 which is closer to 1 than to 0.\n",
    "\n",
    "Moreover, both remaining_lease and lease_commence_date have a correlation value with resale_price bigger than 0.3. This indicates the presence of a moderate positive correlation with the target variable.\n",
    "\n",
    "To summarize this information suggests that the resale price of a flat is moderately affected by the size of it (in square meters) and in a lesser degree by its leasing time conditions."
   ]
  },
  {
   "cell_type": "markdown",
   "metadata": {
    "id": "JWp1LAnMboRH"
   },
   "source": [
    "####Distribution of the target variable"
   ]
  },
  {
   "cell_type": "markdown",
   "metadata": {
    "id": "WURNtI5bbsG6"
   },
   "source": [
    "Now let's figure out how is seen the distribution of the target variable. For this, a histogram is constructed. However since the values of resale_price are so big I am creating a new variable that stores the same values but divided by 1000"
   ]
  },
  {
   "cell_type": "code",
   "execution_count": 17,
   "metadata": {
    "colab": {
     "base_uri": "https://localhost:8080/",
     "height": 472
    },
    "id": "AK09Ci7fCm96",
    "outputId": "350e52c7-427a-4e1c-f13a-4dec4c03f73c"
   },
   "outputs": [
    {
     "data": {
      "image/png": "[encoded data removed]",
      "text/plain": [
       "<Figure size 640x480 with 1 Axes>"
      ]
     },
     "metadata": {},
     "output_type": "display_data"
    }
   ],
   "source": [
    "#Divide resale prices by 1000\n",
    "resale_price_thousands = train[\"resale_price\"] / 1000\n",
    "\n",
    "#Plot histogram with resale prices divided by 1000\n",
    "plt.hist(resale_price_thousands, bins=20)\n",
    "plt.title(\"Resale Price Distribution (in thousands)\")\n",
    "plt.xlabel(\"Price (in thousands)\")\n",
    "plt.ylabel(\"Number of flats\")\n",
    "plt.show()"
   ]
  },
  {
   "cell_type": "markdown",
   "metadata": {
    "id": "awPnOmbwlNtG"
   },
   "source": [
    "##Feature Engineering"
   ]
  },
  {
   "cell_type": "code",
   "execution_count": 18,
   "metadata": {},
   "outputs": [
    {
     "name": "stdout",
     "output_type": "stream",
     "text": [
      "['month', 'town', 'flat_type', 'block', 'street_name', 'storey_range', 'floor_area_sqm', 'flat_model', 'lease_commence_date', 'remaining_lease', 'resale_price']\n"
     ]
    }
   ],
   "source": [
    "print(train.columns.tolist())"
   ]
  },
  {
   "cell_type": "markdown",
   "metadata": {
    "id": "-SwANmQumSgu"
   },
   "source": [
    "For this step all the variables with object type data present in the dataset must be converted or encoded into a format that is suitable for modeling. The variables that need feature engineering in this case are:\n",
    "\n",
    "month,\ttown,\tflat_type,\tblock,\tstreet_name,\tstorey_range and flat_model\n",
    "\n",
    "It is important to note that the original columns are deleted in the dataset after the encoding process."
   ]
  },
  {
   "cell_type": "markdown",
   "metadata": {
    "id": "HVGf2DpbnfeC"
   },
   "source": [
    "###month"
   ]
  },
  {
   "cell_type": "markdown",
   "metadata": {
    "id": "9rlcgNEpniIr"
   },
   "source": [
    "This variable can be converted to datetime data type to then be converted to years."
   ]
  },
  {
   "cell_type": "code",
   "execution_count": 19,
   "metadata": {
    "id": "jBw-SxFFoG9c"
   },
   "outputs": [],
   "source": [
    "for df in [train, val, test]:\n",
    "    df[\"month\"] = pd.to_datetime(df[\"month\"])\n",
    "    df[\"year\"] = df[\"month\"].dt.year\n",
    "    df.drop(\"month\", axis=1, inplace=True)"
   ]
  },
  {
   "cell_type": "markdown",
   "metadata": {
    "id": "H4tA-lh-qsiA"
   },
   "source": [
    "###Other string variables"
   ]
  },
  {
   "cell_type": "markdown",
   "metadata": {
    "id": "1kXt0dLBqz_Z"
   },
   "source": [
    "For deciding which encoding approach is better for the other variables the values present in each column are explored by doing a frequency tests."
   ]
  },
  {
   "cell_type": "code",
   "execution_count": 20,
   "metadata": {
    "id": "-AOc6NqWF7Co"
   },
   "outputs": [],
   "source": [
    "town_values = train[\"town\"].value_counts()\n",
    "flat_type_values = train[\"flat_type\"].value_counts()\n",
    "block_values = train[\"block\"].value_counts()\n",
    "street_name_values = train[\"street_name\"].value_counts()\n",
    "storey_range_values = train[\"storey_range\"].value_counts()\n",
    "flat_model_values = train[\"flat_model\"].value_counts()"
   ]
  },
  {
   "cell_type": "code",
   "execution_count": 21,
   "metadata": {
    "colab": {
     "base_uri": "https://localhost:8080/"
    },
    "id": "oc4NNtKMqMKF",
    "outputId": "7867fda6-af04-4cd4-8ab3-b543f95fc7f6"
   },
   "outputs": [
    {
     "name": "stdout",
     "output_type": "stream",
     "text": [
      "SENGKANG           10733\n",
      "WOODLANDS           9314\n",
      "PUNGGOL             9071\n",
      "JURONG WEST         8941\n",
      "TAMPINES            8906\n",
      "YISHUN              8839\n",
      "BEDOK               7360\n",
      "HOUGANG             6617\n",
      "CHOA CHU KANG       6051\n",
      "ANG MO KIO          5709\n",
      "BUKIT MERAH         4969\n",
      "BUKIT BATOK         4960\n",
      "BUKIT PANJANG       4947\n",
      "TOA PAYOH           4149\n",
      "PASIR RIS           3998\n",
      "KALLANG/WHAMPOA     3994\n",
      "QUEENSTOWN          3671\n",
      "SEMBAWANG           3503\n",
      "GEYLANG             3330\n",
      "CLEMENTI            3065\n",
      "JURONG EAST         2760\n",
      "SERANGOON           2488\n",
      "BISHAN              2424\n",
      "CENTRAL AREA        1148\n",
      "MARINE PARADE        803\n",
      "BUKIT TIMAH          326\n",
      "Name: town, dtype: int64\n"
     ]
    }
   ],
   "source": [
    "print(town_values)"
   ]
  },
  {
   "cell_type": "code",
   "execution_count": 22,
   "metadata": {
    "colab": {
     "base_uri": "https://localhost:8080/"
    },
    "id": "XBOiR-2vHR9y",
    "outputId": "5af8a3e2-36c0-4858-e188-90b30de30b3b"
   },
   "outputs": [
    {
     "name": "stdout",
     "output_type": "stream",
     "text": [
      "4 ROOM              55267\n",
      "5 ROOM              32707\n",
      "3 ROOM              31943\n",
      "EXECUTIVE           10014\n",
      "2 ROOM               2045\n",
      "MULTI-GENERATION       53\n",
      "1 ROOM                 47\n",
      "Name: flat_type, dtype: int64\n"
     ]
    }
   ],
   "source": [
    "print(flat_type_values)"
   ]
  },
  {
   "cell_type": "code",
   "execution_count": 23,
   "metadata": {},
   "outputs": [
    {
     "name": "stdout",
     "output_type": "stream",
     "text": [
      "2       455\n",
      "1       392\n",
      "8       388\n",
      "9       377\n",
      "101     361\n",
      "       ... \n",
      "860B      1\n",
      "226F      1\n",
      "223B      1\n",
      "828A      1\n",
      "42A       1\n",
      "Name: block, Length: 2696, dtype: int64\n"
     ]
    }
   ],
   "source": [
    "print(block_values)"
   ]
  },
  {
   "cell_type": "code",
   "execution_count": 24,
   "metadata": {},
   "outputs": [
    {
     "name": "stdout",
     "output_type": "stream",
     "text": [
      "YISHUN RING RD        2023\n",
      "BEDOK RESERVOIR RD    1482\n",
      "PUNGGOL DR            1362\n",
      "ANG MO KIO AVE 10     1360\n",
      "PUNGGOL FIELD         1275\n",
      "                      ... \n",
      "SENG POH RD              5\n",
      "KRETA AYER RD            5\n",
      "YISHUN ST 43             4\n",
      "SEMBAWANG WAY            3\n",
      "GEYLANG EAST AVE 2       1\n",
      "Name: street_name, Length: 564, dtype: int64\n"
     ]
    }
   ],
   "source": [
    "print(street_name_values)"
   ]
  },
  {
   "cell_type": "code",
   "execution_count": 25,
   "metadata": {},
   "outputs": [
    {
     "name": "stdout",
     "output_type": "stream",
     "text": [
      "04 TO 06    30739\n",
      "07 TO 09    27897\n",
      "10 TO 12    24781\n",
      "01 TO 03    23696\n",
      "13 TO 15    12292\n",
      "16 TO 18     5658\n",
      "19 TO 21     2394\n",
      "22 TO 24     1787\n",
      "25 TO 27     1031\n",
      "28 TO 30      653\n",
      "31 TO 33      347\n",
      "34 TO 36      307\n",
      "37 TO 39      270\n",
      "40 TO 42      139\n",
      "43 TO 45       45\n",
      "46 TO 48       32\n",
      "49 TO 51        8\n",
      "Name: storey_range, dtype: int64\n"
     ]
    }
   ],
   "source": [
    "print(storey_range_values)"
   ]
  },
  {
   "cell_type": "code",
   "execution_count": 26,
   "metadata": {
    "colab": {
     "base_uri": "https://localhost:8080/"
    },
    "id": "z7-haaALqde4",
    "outputId": "59ba7373-ae52-492c-8426-f7d5b72ea211"
   },
   "outputs": [
    {
     "name": "stdout",
     "output_type": "stream",
     "text": [
      "Model A                   44445\n",
      "Improved                  32822\n",
      "New Generation            17544\n",
      "Premium Apartment         14596\n",
      "Simplified                 5365\n",
      "Apartment                  5044\n",
      "Maisonette                 3749\n",
      "Standard                   3740\n",
      "DBSS                       1984\n",
      "Model A2                   1604\n",
      "Type S1                     267\n",
      "Model A-Maisonette          266\n",
      "Adjoined flat               233\n",
      "Type S2                     126\n",
      "Terrace                      78\n",
      "Premium Apartment Loft       71\n",
      "Multi Generation             53\n",
      "2-room                       44\n",
      "Improved-Maisonette          20\n",
      "3Gen                         17\n",
      "Premium Maisonette            8\n",
      "Name: flat_model, dtype: int64\n"
     ]
    }
   ],
   "source": [
    "print(flat_model_values)"
   ]
  },
  {
   "cell_type": "markdown",
   "metadata": {
    "id": "E7QCbhIaqowO"
   },
   "source": [
    "####Label encoding"
   ]
  },
  {
   "cell_type": "markdown",
   "metadata": {
    "id": "vZFK8Vx5soh_"
   },
   "source": [
    "Since the variable storey_range is an ordinal categorical variable, the label encoding technique is appropriate for it. Here a column with integer values is created. It starts by assigning 0 to the first category and then it applies 1 to the second and so on."
   ]
  },
  {
   "cell_type": "code",
   "execution_count": 27,
   "metadata": {
    "id": "oasaW2jxtKXr"
   },
   "outputs": [],
   "source": [
    "#LabelEncoder\n",
    "label_encoder = LabelEncoder()\n",
    "label_encoder.fit(train[\"storey_range\"])\n",
    "for df in [train, val, test]:\n",
    "    df[\"storey_range_encoded\"] = label_encoder.transform(df[\"storey_range\"])\n",
    "    df.drop(\"storey_range\", axis=1, inplace=True)"
   ]
  },
  {
   "cell_type": "markdown",
   "metadata": {
    "id": "06yttsncoOa7"
   },
   "source": [
    "####One-hot encoding"
   ]
  },
  {
   "cell_type": "markdown",
   "metadata": {
    "id": "7Vk9WiVloOtz"
   },
   "source": [
    "For the variables town, flat_type and flat_model the One-hot encoding technique is used. In this case new columns are created for every category in the original columns. A value of 1 is assigned to the rows that fall into a category and a value of 0 in the opposite case."
   ]
  },
  {
   "cell_type": "code",
   "execution_count": 28,
   "metadata": {
    "id": "T3-UVm_QsYHI"
   },
   "outputs": [],
   "source": [
    "#One-hot encode on the training data\n",
    "train_encoded = pd.get_dummies(train, columns=[\"town\", \"flat_type\", \"flat_model\"], drop_first=True)\n",
    "encoded_columns = train_encoded.columns\n",
    "\n",
    "#Now on the validation and test data\n",
    "val_encoded = pd.get_dummies(val, columns=[\"town\", \"flat_type\", \"flat_model\"], drop_first=True)\n",
    "test_encoded = pd.get_dummies(test, columns=[\"town\", \"flat_type\", \"flat_model\"], drop_first=True)\n",
    "\n",
    "#Then I rearenge the index of validation and test sets\n",
    "val_encoded = val_encoded.reindex(columns=encoded_columns, fill_value=0)\n",
    "test_encoded = test_encoded.reindex(columns=encoded_columns, fill_value=0)"
   ]
  },
  {
   "cell_type": "markdown",
   "metadata": {
    "id": "iC9R0O15trQ8"
   },
   "source": [
    "####Frequency encoding"
   ]
  },
  {
   "cell_type": "markdown",
   "metadata": {
    "id": "GuHa2qQIaC3p"
   },
   "source": [
    "Since the variables block and street_name have too many different values I prefer a different approach from One-hot encoding. In this case the frequency encoding technique is used. Here a new column is created for each variable. These new columns have as values the frequency values that each category had in their original columns."
   ]
  },
  {
   "cell_type": "code",
   "execution_count": 29,
   "metadata": {
    "id": "whe7bojpuvPY"
   },
   "outputs": [],
   "source": [
    "block_freq = train_encoded['block'].value_counts(normalize=True)\n",
    "street_freq = train_encoded['street_name'].value_counts(normalize=True)\n",
    "\n",
    "for df in [train_encoded, val_encoded, test_encoded]:\n",
    "    df['block_frequency_encoded'] = df['block'].map(block_freq)\n",
    "    df['street_frequency_encoded'] = df['street_name'].map(street_freq)\n",
    "    df.drop(['block', 'street_name'], axis=1, inplace=True, errors='ignore')"
   ]
  },
  {
   "cell_type": "markdown",
   "metadata": {},
   "source": [
    "####Remove empty cells after feature engineering"
   ]
  },
  {
   "cell_type": "code",
   "execution_count": 30,
   "metadata": {},
   "outputs": [],
   "source": [
    "for df in [val_encoded, test_encoded]:\n",
    "    df['block_frequency_encoded'].fillna(0, inplace=True)\n",
    "    df['street_frequency_encoded'].fillna(0, inplace=True)"
   ]
  },
  {
   "cell_type": "code",
   "execution_count": 31,
   "metadata": {},
   "outputs": [
    {
     "name": "stdout",
     "output_type": "stream",
     "text": [
      "Non-numeric columns in train: []\n",
      "Non-numeric columns in val: []\n",
      "Non-numeric columns in test: []\n"
     ]
    }
   ],
   "source": [
    "print(\"Non-numeric columns in train:\", train_encoded.select_dtypes(include='object').columns.tolist())\n",
    "print(\"Non-numeric columns in val:\", val_encoded.select_dtypes(include='object').columns.tolist())\n",
    "print(\"Non-numeric columns in test:\", test_encoded.select_dtypes(include='object').columns.tolist())"
   ]
  },
  {
   "cell_type": "markdown",
   "metadata": {
    "id": "gx1QHmIIvV_u"
   },
   "source": [
    "##Model training"
   ]
  },
  {
   "cell_type": "markdown",
   "metadata": {
    "id": "TPXZ6cH4HzoE"
   },
   "source": [
    "For this step I will train with three different algorithms and choose the best one. The selected algorithms are Linear Regression, Decision Tree and Random Forest."
   ]
  },
  {
   "cell_type": "markdown",
   "metadata": {
    "id": "pf7_Z-ePJ6Df"
   },
   "source": [
    "###1. Split the data into features (X) and target variable (y)"
   ]
  },
  {
   "cell_type": "markdown",
   "metadata": {
    "id": "1TDKJMCXO2TC"
   },
   "source": [
    "In this step the target variable resale_price is dropped and then stored in a variable \"y\". The rest of the dataset is stored in variable \"X\". This applies for training, validation and test sets."
   ]
  },
  {
   "cell_type": "code",
   "execution_count": 32,
   "metadata": {
    "id": "qZCLYQfyzG96"
   },
   "outputs": [],
   "source": [
    "X_train = train_encoded.drop(\"resale_price\", axis=1)\n",
    "y_train = train_encoded[\"resale_price\"]\n",
    "\n",
    "X_val = val_encoded.drop(\"resale_price\", axis=1)\n",
    "y_val = val_encoded[\"resale_price\"]\n",
    "\n",
    "X_test = test_encoded.drop(\"resale_price\", axis=1)\n",
    "y_test = test_encoded[\"resale_price\"]"
   ]
  },
  {
   "cell_type": "markdown",
   "metadata": {
    "id": "gOzWC5f0REpH"
   },
   "source": [
    "###2. Training models and selecting the best one"
   ]
  },
  {
   "cell_type": "markdown",
   "metadata": {
    "id": "gXq548eoRmPD"
   },
   "source": [
    "Here the Linear Regression, Decision Tree and Random Forest models are trained and compared with the Mean Squared Error measure on the validation set. The smaller the MSE of a model the better."
   ]
  },
  {
   "cell_type": "markdown",
   "metadata": {
    "id": "3b4p8_IPRTIf"
   },
   "source": [
    "####Linear Regression"
   ]
  },
  {
   "cell_type": "code",
   "execution_count": 33,
   "metadata": {
    "colab": {
     "base_uri": "https://localhost:8080/"
    },
    "id": "6WFjnP58zLe0",
    "outputId": "c028d0af-3247-4609-94af-6c2235f3498e"
   },
   "outputs": [
    {
     "name": "stdout",
     "output_type": "stream",
     "text": [
      "Linear Regression - MSE on validation set: 4239216886.1862693\n"
     ]
    }
   ],
   "source": [
    "lr_model = LinearRegression()\n",
    "lr_model.fit(X_train, y_train)\n",
    "\n",
    "#Initial evaluation\n",
    "y_pred_lr = lr_model.predict(X_val)\n",
    "mse_lr = mean_squared_error(y_val, y_pred_lr)\n",
    "print(\"Linear Regression - MSE on validation set:\", mse_lr)"
   ]
  },
  {
   "cell_type": "markdown",
   "metadata": {
    "id": "rLbGuZm1U8I9"
   },
   "source": [
    "####Decision Tree"
   ]
  },
  {
   "cell_type": "code",
   "execution_count": 34,
   "metadata": {
    "colab": {
     "base_uri": "https://localhost:8080/"
    },
    "id": "U6HwKxoB46W2",
    "outputId": "d8d2b5a0-ec5b-477f-940a-fb14936b5a6e"
   },
   "outputs": [
    {
     "name": "stdout",
     "output_type": "stream",
     "text": [
      "Decision Tree - MSE on validation set: 1739793724.204153\n"
     ]
    }
   ],
   "source": [
    "dt_model = DecisionTreeRegressor(random_state=42)\n",
    "dt_model.fit(X_train, y_train)\n",
    "y_pred_dt = dt_model.predict(X_val)\n",
    "\n",
    "mse_dt = mean_squared_error(y_val, y_pred_dt)\n",
    "print(\"Decision Tree - MSE on validation set:\", mse_dt)"
   ]
  },
  {
   "cell_type": "markdown",
   "metadata": {
    "id": "NwM2tFz3U_OS"
   },
   "source": [
    "####Random Forest"
   ]
  },
  {
   "cell_type": "markdown",
   "metadata": {
    "id": "I_UAdErbaZFD"
   },
   "source": [
    "For this model a hyperparameter of n_estimators is tuned to 100. This means that the number of decision trees in the Random Forest in this case is 100."
   ]
  },
  {
   "cell_type": "code",
   "execution_count": 35,
   "metadata": {
    "colab": {
     "base_uri": "https://localhost:8080/"
    },
    "id": "TFb4WiQO3f5_",
    "outputId": "bf348b47-515c-4c7d-bd9b-7f98f9a3f753"
   },
   "outputs": [
    {
     "name": "stdout",
     "output_type": "stream",
     "text": [
      "Random Forest - MSE on validation set: 961809018.5589348\n"
     ]
    }
   ],
   "source": [
    "rf_model = RandomForestRegressor(random_state=42)\n",
    "rf_model.fit(X_train, y_train)\n",
    "y_pred_rf = rf_model.predict(X_val)\n",
    "\n",
    "mse_rf = mean_squared_error(y_val, y_pred_rf)\n",
    "print(\"Random Forest - MSE on validation set:\", mse_rf)"
   ]
  },
  {
   "cell_type": "markdown",
   "metadata": {
    "id": "nUGTq65gU4i6"
   },
   "source": [
    "After training the three models and calculating their MSE, it is clear that the best model for this case is the Ramdom Forest model, followed by the Decision Tree model. The Linear Regression model is the worst of the three. For this reason, the chosen model is the Random Forest one."
   ]
  },
  {
   "cell_type": "markdown",
   "metadata": {
    "id": "2VxLkUAVWC0G"
   },
   "source": [
    "##Hyperparameter tuning and Cross-validation"
   ]
  },
  {
   "cell_type": "markdown",
   "metadata": {
    "id": "iPfFWbWRc-hp"
   },
   "source": [
    "Now that the Random Forest model is the selected, I am using the grid search technique for finding optimal hyperparameter for this model.\n",
    "\n",
    "In this case the number of decision trees in the random forest is the hyperparameter to be tuned and optimized. Tuning the n_estimators hyperparameter is done by creating a parameter grid with 50, 100, 200 and 300 decision trees for the Random Forest.\n",
    "\n",
    "GridSearchCV is used to perform a grid search over the specified hyperparameters. The number of folds for cross-validation is set to 5 which indicates that the model is trained and evaluated 5 times for each value of the hyperparameter grid.\n",
    "\n",
    "The scoring metric for comparing the models is again MSE.  will be used as the scoring metric. \"scoring=\"neg_mean_squared_error\" helps the GridSearchCV to find the model with smallest MSE. Verbosity level is set to 2 to see some information during the grid search process.\n"
   ]
  },
  {
   "cell_type": "code",
   "execution_count": 36,
   "metadata": {
    "colab": {
     "base_uri": "https://localhost:8080/"
    },
    "id": "-iYJ8igIAXMX",
    "outputId": "c7fe6302-cfc9-4864-e855-b58ad55f33da"
   },
   "outputs": [
    {
     "name": "stdout",
     "output_type": "stream",
     "text": [
      "Fitting 5 folds for each of 4 candidates, totalling 20 fits\n",
      "[CV] END ....................................n_estimators=50; total time=  35.8s\n",
      "[CV] END ....................................n_estimators=50; total time=  35.6s\n",
      "[CV] END ....................................n_estimators=50; total time=  42.3s\n",
      "[CV] END ....................................n_estimators=50; total time=  37.0s\n",
      "[CV] END ....................................n_estimators=50; total time=  36.5s\n",
      "[CV] END ...................................n_estimators=100; total time= 1.3min\n",
      "[CV] END ...................................n_estimators=100; total time= 1.2min\n",
      "[CV] END ...................................n_estimators=100; total time= 1.2min\n",
      "[CV] END ...................................n_estimators=100; total time= 1.1min\n",
      "[CV] END ...................................n_estimators=100; total time= 1.1min\n",
      "[CV] END ...................................n_estimators=200; total time= 2.3min\n",
      "[CV] END ...................................n_estimators=200; total time= 2.3min\n",
      "[CV] END ...................................n_estimators=200; total time= 2.3min\n",
      "[CV] END ...................................n_estimators=200; total time= 2.4min\n",
      "[CV] END ...................................n_estimators=200; total time= 2.4min\n",
      "[CV] END ...................................n_estimators=300; total time= 3.6min\n",
      "[CV] END ...................................n_estimators=300; total time= 3.6min\n",
      "[CV] END ...................................n_estimators=300; total time= 3.7min\n",
      "[CV] END ...................................n_estimators=300; total time= 3.6min\n",
      "[CV] END ...................................n_estimators=300; total time= 3.6min\n",
      "Mean Squared Error on validation set: 952730974.8078762\n",
      "Best Parameters: {'n_estimators': 300}\n"
     ]
    }
   ],
   "source": [
    "#Define the Random Forest model\n",
    "model = RandomForestRegressor()\n",
    "\n",
    "#Define the hyperparameters grid\n",
    "param_grid = {\n",
    "    'n_estimators': [50, 100, 200, 300]\n",
    "}\n",
    "\n",
    "#Perform GridSearchCV (popular cross validation approach)\n",
    "grid_search = GridSearchCV(estimator=model, param_grid=param_grid, cv=5, scoring='neg_mean_squared_error', verbose=2)\n",
    "grid_search.fit(X_train, y_train)\n",
    "\n",
    "#Get the best model\n",
    "best_model = grid_search.best_estimator_\n",
    "\n",
    "#Evaluate the best model\n",
    "y_pred_val = best_model.predict(X_val)\n",
    "mse_val = mean_squared_error(y_val, y_pred_val)\n",
    "print('Mean Squared Error on validation set:', mse_val)\n",
    "\n",
    "#Get the best parameters\n",
    "best_params = grid_search.best_params_\n",
    "print('Best Parameters:', best_params)"
   ]
  },
  {
   "cell_type": "markdown",
   "metadata": {
    "id": "iggjDRyFcN-y"
   },
   "source": [
    "After the grid search the best set value for the hyperparameter (n_estimators) is 300. This means that the Random Forest model performed the best with a set amount of 300 Decision Trees."
   ]
  },
  {
   "cell_type": "markdown",
   "metadata": {
    "id": "1YNHNi_pbkUa"
   },
   "source": [
    "##Model Assessment"
   ]
  },
  {
   "cell_type": "markdown",
   "metadata": {},
   "source": [
    "###On validation set"
   ]
  },
  {
   "cell_type": "markdown",
   "metadata": {
    "id": "8PbhgadqddOi"
   },
   "source": [
    "Before assessing the model, I am training it once again with the best value that I could find for the hyperparameter n_estimators. Then the model performance is evaluated with the following measures: MSE, RMSE and R square on the validation set."
   ]
  },
  {
   "cell_type": "code",
   "execution_count": 38,
   "metadata": {
    "colab": {
     "base_uri": "https://localhost:8080/"
    },
    "id": "6q5xHeH_6PXr",
    "outputId": "1261c577-d60a-493a-c018-eb878e16b93c"
   },
   "outputs": [
    {
     "name": "stdout",
     "output_type": "stream",
     "text": [
      "Random Forest - MSE on validation set: 954298482.51\n",
      "Random Forest - RMSE on validation set: 30891.72\n",
      "Random Forest - R² on validation set: 0.9651\n"
     ]
    }
   ],
   "source": [
    "model = RandomForestRegressor(n_estimators=300, random_state=42)\n",
    "model.fit(X_train, y_train)\n",
    "\n",
    "#predict on validation set\n",
    "y_val_pred = model.predict(X_val)\n",
    "\n",
    "#calculate metrics\n",
    "mse_val = mean_squared_error(y_val, y_val_pred)\n",
    "rmse_val = np.sqrt(mse_val)\n",
    "r2_val = r2_score(y_val, y_val_pred)\n",
    "\n",
    "print(f\"Random Forest - MSE on validation set: {mse_val:.2f}\")\n",
    "print(f\"Random Forest - RMSE on validation set: {rmse_val:.2f}\")\n",
    "print(f\"Random Forest - R² on validation set: {r2_val:.4f}\")"
   ]
  },
  {
   "cell_type": "markdown",
   "metadata": {
    "id": "Dop8FfyHeobu"
   },
   "source": [
    "Regarding MSE, after training the model with 300 Decision Trees it can be observed that the MSE (954298482) is smaller than the MSE of the original Random Forest model with just 100 Decision Trees (961809018). This confirms that the model performed better with the hyperparameter set to 300."
   ]
  },
  {
   "cell_type": "markdown",
   "metadata": {},
   "source": [
    "###On test set"
   ]
  },
  {
   "cell_type": "markdown",
   "metadata": {
    "id": "XrW0YUQ4fgGt"
   },
   "source": [
    "####Merging training with validation sets"
   ]
  },
  {
   "cell_type": "code",
   "execution_count": 39,
   "metadata": {},
   "outputs": [],
   "source": [
    "X_final_train = pd.concat([X_train, X_val])\n",
    "y_final_train = pd.concat([y_train, y_val])"
   ]
  },
  {
   "cell_type": "markdown",
   "metadata": {},
   "source": [
    "####Assessing the model on test set"
   ]
  },
  {
   "cell_type": "code",
   "execution_count": 40,
   "metadata": {},
   "outputs": [
    {
     "name": "stdout",
     "output_type": "stream",
     "text": [
      "Random Forest - MSE on test set: 902634034.72\n",
      "Random Forest - RMSE on test set: 30043.87\n",
      "Random Forest - R² on test set: 0.9673\n"
     ]
    }
   ],
   "source": [
    "final_model = RandomForestRegressor(n_estimators=300, random_state=42)\n",
    "final_model.fit(X_final_train, y_final_train)\n",
    "\n",
    "y_test_pred = final_model.predict(X_test)\n",
    "\n",
    "#Calculate metrics\n",
    "mse_test = mean_squared_error(y_test, y_test_pred)\n",
    "rmse_test = np.sqrt(mse_test)\n",
    "r2_test = r2_score(y_test, y_test_pred)\n",
    "\n",
    "print(f\"Random Forest - MSE on test set: {mse_test:.2f}\")\n",
    "print(f\"Random Forest - RMSE on test set: {rmse_test:.2f}\")\n",
    "print(f\"Random Forest - R² on test set: {r2_test:.4f}\")"
   ]
  },
  {
   "cell_type": "markdown",
   "metadata": {
    "id": "j3-9MMoZjuGo"
   },
   "source": [
    "The MSE of the model regarding test set (902634034) is lower to the one with validation (954298482) which indicates good generalization.\n",
    "\n",
    "The Root Mean Square Error (RMSE) is the value that indicates the average difference between the actual and predicted resale prices of flats in Singapore which is approximately 30043 SD. Since this value is just about the 6% of the average price (481729 SD) of a flat in Singapore, the performance of the model can be considered good.\n",
    "\n",
    "The value of R square of this model is very close to 1 which suggests great performance of the model. This value states that 96.73% of the variance in the resale prices of flats in Singapore can be explained by the features included in this regression."
   ]
  },
  {
   "cell_type": "markdown",
   "metadata": {
    "id": "xFOf4SxLmcB-"
   },
   "source": [
    "##Final discussion"
   ]
  },
  {
   "cell_type": "markdown",
   "metadata": {
    "id": "pqxls6YCnCmu"
   },
   "source": [
    "As strenghts, the suggested solution obtained great results in the measures used for its assessment. This means that the model performs well in its main task of predicting resale prices in the Singapore market. This is extremely valuable for the client NewHouse Investments since it provides useful information for making informed decisions regarding buying, selling, or holding properties which is the answer to the initial business problem.\n",
    "\n",
    "However, it is should be noted that the model does have limitations. In the first place, the model's performance may degrade in the future. For example, if the patterns in the market change or if external factors, that are not in the model, end up by affecting the resale price of flats in Singapore.\n",
    "\n",
    "Regarding the datadriven recommendations, it is kindly suggested to continuously update the data to sustain the model relevance and predictability. Also, some new external features can be explored and included to improve the model performance. Additionally, it is always imperative to remember that the floor area of the property in square meters is one of the most informative features in the model.\n",
    "\n",
    "To finalize, it is also important to note that since this model is a Random Forests regression model, its interpretability is compromised in order to get a great predictive performance. For this reason, this model is not explainable."
   ]
  },
  {
   "cell_type": "markdown",
   "metadata": {
    "id": "rfozWB8EmiNV"
   },
   "source": [
    "##References:"
   ]
  },
  {
   "cell_type": "markdown",
   "metadata": {
    "id": "MrjKzgcQvG9J"
   },
   "source": [
    "Rahmadi S., (2024) Resale HDB Flat Prices 2012 - 2023. Available at: https://www.kaggle.com/datasets/syrahmadi/resale-hdb-flat-prices-2000-2022?select=ResaleflatpricesbasedonregistrationdatefromJan2017onwards.csv. (Accessed: 26 March 2024)\n",
    "\n",
    "Ray S., (2024) 8 Ways to Improve Accuracy of Machine Learning Models. Available at: https://www.analyticsvidhya.com/blog/2015/12/improve-machine-learning-results/#:~:text=Having%20more%20data%20is%20always,more%20accurate%20machine%2Dlearning%20models.\n",
    "(Accessed: 9 April 2024)"
   ]
  }
 ],
 "metadata": {
  "colab": {
   "provenance": []
  },
  "kernelspec": {
   "display_name": "Python 3 (ipykernel)",
   "language": "python",
   "name": "python3"
  },
  "language_info": {
   "codemirror_mode": {
    "name": "ipython",
    "version": 3
   },
   "file_extension": ".py",
   "mimetype": "text/x-python",
   "name": "python",
   "nbconvert_exporter": "python",
   "pygments_lexer": "ipython3",
   "version": "3.7.12"
  }
 },
 "nbformat": 4,
 "nbformat_minor": 1
}
